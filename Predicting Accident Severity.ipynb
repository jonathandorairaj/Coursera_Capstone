{
 "cells": [
  {
   "cell_type": "markdown",
   "metadata": {},
   "source": [
    "# Capstone Project - Predicting Severity of an Accident\n",
    "\n",
    "### Applied Data Science Capstone by IBM/Coursera"
   ]
  },
  {
   "cell_type": "markdown",
   "metadata": {},
   "source": [
    "## Table of contents\n",
    "* [Introduction: Business Problem](#introduction)\n",
    "* [Data](#data)\n",
    "* [Feature Selection & Data Cleaning](#Feature)\n",
    "* [Feature optimization & Visualization](#Optimization)\n",
    "* [Modelling](#modelling)\n",
    "* [Results and Discussion](#results)"
   ]
  },
  {
   "cell_type": "markdown",
   "metadata": {},
   "source": [
    "## Introduction: Business Problem <a name=\"introduction\"></a>"
   ]
  },
  {
   "cell_type": "markdown",
   "metadata": {},
   "source": [
    "In this notebook, we will try to predict the severity of an accident using fairly easily acquirable information like\n",
    "Road, Weather and Light Conditions to name a few. \n",
    "\n",
    "</p>Around the world, early warning systems are in place that work to predict and notify the population of an impending disaster, ahead of time. The problem defined here is to apply the same concept to predicting the probability of an Accident and it’s severity. The aim is to predict an accident using weather and local conditions, in addition to some personal/specific features.\n",
    "\n",
    "This model is targeted towards Road and Safety Authorities as well the common user.The envisioned application is for the common user to receive prior warning about which roads to avoid or whether particular roads on the calculated route have a higher chance of accidents and warrants further attention and precautions.</p>"
   ]
  },
  {
   "cell_type": "markdown",
   "metadata": {},
   "source": [
    "## Data <a name = \"data\"></a>\n",
    "\n",
    "Based on the definition of our problem, the factors that will influence the severity of an accident are :\n",
    "    * Weather Conditions\n",
    "    * Light/Visibility Conditions\n",
    "    * Road Conditions\n",
    "    * Road Type\n",
    "    * Vehicle and Driver data will also be useful information.\n",
    "\n",
    "Dataset  : \n",
    "    The dataset used for this project is [UK Road Safety: Traffic Accidents and Vehicles](https://www.kaggle.com/tsiaras/uk-road-safety-accidents-and-vehicles) which is sourced on Kaggle. \n",
    "\n",
    "The dataset comprises of two csv files :\n",
    "    \n",
    "    *AccidentInformation.csv: every line in the file represents a unique traffic accident (identified by the Accident_Index column), featuring various properties related to the accident as columns. Date range: 2005-2017\n",
    "    \n",
    "    *Vehicle_Information.csv: every line in the file represents the involvement of a unique vehicle in a unique traffic     accident, featuring various vehicle and passenger properties as columns. Date range: 2004-2016\n",
    "\n",
    "The two above-mentioned files/datasets can be linked through the unique traffic accident identifier (Accident_Index column)."
   ]
  },
  {
   "cell_type": "code",
   "execution_count": 1,
   "metadata": {},
   "outputs": [],
   "source": [
    "import pandas as pd\n",
    "import numpy as np\n",
    "import matplotlib.pyplot as plt \n",
    "import seaborn as sns\n",
    "%matplotlib inline"
   ]
  },
  {
   "cell_type": "markdown",
   "metadata": {},
   "source": [
    "Reading in the Accident Information & Vehicle Information files into seperate DataFrames and merging them."
   ]
  },
  {
   "cell_type": "code",
   "execution_count": 2,
   "metadata": {
    "collapsed": true
   },
   "outputs": [
    {
     "name": "stderr",
     "output_type": "stream",
     "text": [
      "C:\\ProgramData\\Anaconda3\\lib\\site-packages\\IPython\\core\\interactiveshell.py:3071: DtypeWarning: Columns (0) have mixed types.Specify dtype option on import or set low_memory=False.\n",
      "  has_raised = await self.run_ast_nodes(code_ast.body, cell_name,\n"
     ]
    },
    {
     "data": {
      "text/html": [
       "<div>\n",
       "<style scoped>\n",
       "    .dataframe tbody tr th:only-of-type {\n",
       "        vertical-align: middle;\n",
       "    }\n",
       "\n",
       "    .dataframe tbody tr th {\n",
       "        vertical-align: top;\n",
       "    }\n",
       "\n",
       "    .dataframe thead th {\n",
       "        text-align: right;\n",
       "    }\n",
       "</style>\n",
       "<table border=\"1\" class=\"dataframe\">\n",
       "  <thead>\n",
       "    <tr style=\"text-align: right;\">\n",
       "      <th></th>\n",
       "      <th>Accident_Index</th>\n",
       "      <th>1st_Road_Class</th>\n",
       "      <th>1st_Road_Number</th>\n",
       "      <th>2nd_Road_Class</th>\n",
       "      <th>2nd_Road_Number</th>\n",
       "      <th>Accident_Severity</th>\n",
       "      <th>Carriageway_Hazards</th>\n",
       "      <th>Date</th>\n",
       "      <th>Day_of_Week</th>\n",
       "      <th>Did_Police_Officer_Attend_Scene_of_Accident</th>\n",
       "      <th>...</th>\n",
       "      <th>Police_Force</th>\n",
       "      <th>Road_Surface_Conditions</th>\n",
       "      <th>Road_Type</th>\n",
       "      <th>Special_Conditions_at_Site</th>\n",
       "      <th>Speed_limit</th>\n",
       "      <th>Time</th>\n",
       "      <th>Urban_or_Rural_Area</th>\n",
       "      <th>Weather_Conditions</th>\n",
       "      <th>Year</th>\n",
       "      <th>InScotland</th>\n",
       "    </tr>\n",
       "  </thead>\n",
       "  <tbody>\n",
       "    <tr>\n",
       "      <th>0</th>\n",
       "      <td>200501BS00001</td>\n",
       "      <td>A</td>\n",
       "      <td>3218.0</td>\n",
       "      <td>NaN</td>\n",
       "      <td>0.0</td>\n",
       "      <td>Serious</td>\n",
       "      <td>None</td>\n",
       "      <td>2005-01-04</td>\n",
       "      <td>Tuesday</td>\n",
       "      <td>1.0</td>\n",
       "      <td>...</td>\n",
       "      <td>Metropolitan Police</td>\n",
       "      <td>Wet or damp</td>\n",
       "      <td>Single carriageway</td>\n",
       "      <td>None</td>\n",
       "      <td>30.0</td>\n",
       "      <td>17:42</td>\n",
       "      <td>Urban</td>\n",
       "      <td>Raining no high winds</td>\n",
       "      <td>2005</td>\n",
       "      <td>No</td>\n",
       "    </tr>\n",
       "    <tr>\n",
       "      <th>1</th>\n",
       "      <td>200501BS00002</td>\n",
       "      <td>B</td>\n",
       "      <td>450.0</td>\n",
       "      <td>C</td>\n",
       "      <td>0.0</td>\n",
       "      <td>Slight</td>\n",
       "      <td>None</td>\n",
       "      <td>2005-01-05</td>\n",
       "      <td>Wednesday</td>\n",
       "      <td>1.0</td>\n",
       "      <td>...</td>\n",
       "      <td>Metropolitan Police</td>\n",
       "      <td>Dry</td>\n",
       "      <td>Dual carriageway</td>\n",
       "      <td>None</td>\n",
       "      <td>30.0</td>\n",
       "      <td>17:36</td>\n",
       "      <td>Urban</td>\n",
       "      <td>Fine no high winds</td>\n",
       "      <td>2005</td>\n",
       "      <td>No</td>\n",
       "    </tr>\n",
       "    <tr>\n",
       "      <th>2</th>\n",
       "      <td>200501BS00003</td>\n",
       "      <td>C</td>\n",
       "      <td>0.0</td>\n",
       "      <td>NaN</td>\n",
       "      <td>0.0</td>\n",
       "      <td>Slight</td>\n",
       "      <td>None</td>\n",
       "      <td>2005-01-06</td>\n",
       "      <td>Thursday</td>\n",
       "      <td>1.0</td>\n",
       "      <td>...</td>\n",
       "      <td>Metropolitan Police</td>\n",
       "      <td>Dry</td>\n",
       "      <td>Single carriageway</td>\n",
       "      <td>None</td>\n",
       "      <td>30.0</td>\n",
       "      <td>00:15</td>\n",
       "      <td>Urban</td>\n",
       "      <td>Fine no high winds</td>\n",
       "      <td>2005</td>\n",
       "      <td>No</td>\n",
       "    </tr>\n",
       "    <tr>\n",
       "      <th>3</th>\n",
       "      <td>200501BS00004</td>\n",
       "      <td>A</td>\n",
       "      <td>3220.0</td>\n",
       "      <td>NaN</td>\n",
       "      <td>0.0</td>\n",
       "      <td>Slight</td>\n",
       "      <td>None</td>\n",
       "      <td>2005-01-07</td>\n",
       "      <td>Friday</td>\n",
       "      <td>1.0</td>\n",
       "      <td>...</td>\n",
       "      <td>Metropolitan Police</td>\n",
       "      <td>Dry</td>\n",
       "      <td>Single carriageway</td>\n",
       "      <td>None</td>\n",
       "      <td>30.0</td>\n",
       "      <td>10:35</td>\n",
       "      <td>Urban</td>\n",
       "      <td>Fine no high winds</td>\n",
       "      <td>2005</td>\n",
       "      <td>No</td>\n",
       "    </tr>\n",
       "    <tr>\n",
       "      <th>4</th>\n",
       "      <td>200501BS00005</td>\n",
       "      <td>Unclassified</td>\n",
       "      <td>0.0</td>\n",
       "      <td>NaN</td>\n",
       "      <td>0.0</td>\n",
       "      <td>Slight</td>\n",
       "      <td>None</td>\n",
       "      <td>2005-01-10</td>\n",
       "      <td>Monday</td>\n",
       "      <td>1.0</td>\n",
       "      <td>...</td>\n",
       "      <td>Metropolitan Police</td>\n",
       "      <td>Wet or damp</td>\n",
       "      <td>Single carriageway</td>\n",
       "      <td>None</td>\n",
       "      <td>30.0</td>\n",
       "      <td>21:13</td>\n",
       "      <td>Urban</td>\n",
       "      <td>Fine no high winds</td>\n",
       "      <td>2005</td>\n",
       "      <td>No</td>\n",
       "    </tr>\n",
       "  </tbody>\n",
       "</table>\n",
       "<p>5 rows × 34 columns</p>\n",
       "</div>"
      ],
      "text/plain": [
       "  Accident_Index 1st_Road_Class  1st_Road_Number 2nd_Road_Class  \\\n",
       "0  200501BS00001              A           3218.0            NaN   \n",
       "1  200501BS00002              B            450.0              C   \n",
       "2  200501BS00003              C              0.0            NaN   \n",
       "3  200501BS00004              A           3220.0            NaN   \n",
       "4  200501BS00005   Unclassified              0.0            NaN   \n",
       "\n",
       "   2nd_Road_Number Accident_Severity Carriageway_Hazards        Date  \\\n",
       "0              0.0           Serious                None  2005-01-04   \n",
       "1              0.0            Slight                None  2005-01-05   \n",
       "2              0.0            Slight                None  2005-01-06   \n",
       "3              0.0            Slight                None  2005-01-07   \n",
       "4              0.0            Slight                None  2005-01-10   \n",
       "\n",
       "  Day_of_Week  Did_Police_Officer_Attend_Scene_of_Accident  ...  \\\n",
       "0     Tuesday                                          1.0  ...   \n",
       "1   Wednesday                                          1.0  ...   \n",
       "2    Thursday                                          1.0  ...   \n",
       "3      Friday                                          1.0  ...   \n",
       "4      Monday                                          1.0  ...   \n",
       "\n",
       "          Police_Force Road_Surface_Conditions           Road_Type  \\\n",
       "0  Metropolitan Police             Wet or damp  Single carriageway   \n",
       "1  Metropolitan Police                     Dry    Dual carriageway   \n",
       "2  Metropolitan Police                     Dry  Single carriageway   \n",
       "3  Metropolitan Police                     Dry  Single carriageway   \n",
       "4  Metropolitan Police             Wet or damp  Single carriageway   \n",
       "\n",
       "  Special_Conditions_at_Site Speed_limit   Time  Urban_or_Rural_Area  \\\n",
       "0                       None        30.0  17:42                Urban   \n",
       "1                       None        30.0  17:36                Urban   \n",
       "2                       None        30.0  00:15                Urban   \n",
       "3                       None        30.0  10:35                Urban   \n",
       "4                       None        30.0  21:13                Urban   \n",
       "\n",
       "      Weather_Conditions  Year InScotland  \n",
       "0  Raining no high winds  2005         No  \n",
       "1     Fine no high winds  2005         No  \n",
       "2     Fine no high winds  2005         No  \n",
       "3     Fine no high winds  2005         No  \n",
       "4     Fine no high winds  2005         No  \n",
       "\n",
       "[5 rows x 34 columns]"
      ]
     },
     "execution_count": 2,
     "metadata": {},
     "output_type": "execute_result"
    }
   ],
   "source": [
    "#read Accident information into DataFrame\n",
    "df_Acc = pd.read_csv(\"Accident_Information.csv\")\n",
    "df_Acc.head()"
   ]
  },
  {
   "cell_type": "code",
   "execution_count": 3,
   "metadata": {
    "collapsed": true
   },
   "outputs": [
    {
     "data": {
      "text/html": [
       "<div>\n",
       "<style scoped>\n",
       "    .dataframe tbody tr th:only-of-type {\n",
       "        vertical-align: middle;\n",
       "    }\n",
       "\n",
       "    .dataframe tbody tr th {\n",
       "        vertical-align: top;\n",
       "    }\n",
       "\n",
       "    .dataframe thead th {\n",
       "        text-align: right;\n",
       "    }\n",
       "</style>\n",
       "<table border=\"1\" class=\"dataframe\">\n",
       "  <thead>\n",
       "    <tr style=\"text-align: right;\">\n",
       "      <th></th>\n",
       "      <th>Accident_Index</th>\n",
       "      <th>Age_Band_of_Driver</th>\n",
       "      <th>Age_of_Vehicle</th>\n",
       "      <th>Driver_Home_Area_Type</th>\n",
       "      <th>Driver_IMD_Decile</th>\n",
       "      <th>Engine_Capacity_.CC.</th>\n",
       "      <th>Hit_Object_in_Carriageway</th>\n",
       "      <th>Hit_Object_off_Carriageway</th>\n",
       "      <th>Journey_Purpose_of_Driver</th>\n",
       "      <th>Junction_Location</th>\n",
       "      <th>...</th>\n",
       "      <th>Skidding_and_Overturning</th>\n",
       "      <th>Towing_and_Articulation</th>\n",
       "      <th>Vehicle_Leaving_Carriageway</th>\n",
       "      <th>Vehicle_Location.Restricted_Lane</th>\n",
       "      <th>Vehicle_Manoeuvre</th>\n",
       "      <th>Vehicle_Reference</th>\n",
       "      <th>Vehicle_Type</th>\n",
       "      <th>Was_Vehicle_Left_Hand_Drive</th>\n",
       "      <th>X1st_Point_of_Impact</th>\n",
       "      <th>Year</th>\n",
       "    </tr>\n",
       "  </thead>\n",
       "  <tbody>\n",
       "    <tr>\n",
       "      <th>0</th>\n",
       "      <td>200401BS00001</td>\n",
       "      <td>26 - 35</td>\n",
       "      <td>3.0</td>\n",
       "      <td>Urban area</td>\n",
       "      <td>4.0</td>\n",
       "      <td>1588.0</td>\n",
       "      <td>None</td>\n",
       "      <td>None</td>\n",
       "      <td>Data missing or out of range</td>\n",
       "      <td>Data missing or out of range</td>\n",
       "      <td>...</td>\n",
       "      <td>None</td>\n",
       "      <td>No tow/articulation</td>\n",
       "      <td>Did not leave carriageway</td>\n",
       "      <td>0.0</td>\n",
       "      <td>Going ahead other</td>\n",
       "      <td>2</td>\n",
       "      <td>109</td>\n",
       "      <td>Data missing or out of range</td>\n",
       "      <td>Front</td>\n",
       "      <td>2004</td>\n",
       "    </tr>\n",
       "    <tr>\n",
       "      <th>1</th>\n",
       "      <td>200401BS00002</td>\n",
       "      <td>26 - 35</td>\n",
       "      <td>NaN</td>\n",
       "      <td>Urban area</td>\n",
       "      <td>3.0</td>\n",
       "      <td>NaN</td>\n",
       "      <td>None</td>\n",
       "      <td>None</td>\n",
       "      <td>Data missing or out of range</td>\n",
       "      <td>Data missing or out of range</td>\n",
       "      <td>...</td>\n",
       "      <td>None</td>\n",
       "      <td>No tow/articulation</td>\n",
       "      <td>Did not leave carriageway</td>\n",
       "      <td>0.0</td>\n",
       "      <td>Going ahead other</td>\n",
       "      <td>1</td>\n",
       "      <td>109</td>\n",
       "      <td>Data missing or out of range</td>\n",
       "      <td>Front</td>\n",
       "      <td>2004</td>\n",
       "    </tr>\n",
       "    <tr>\n",
       "      <th>2</th>\n",
       "      <td>200401BS00003</td>\n",
       "      <td>26 - 35</td>\n",
       "      <td>4.0</td>\n",
       "      <td>Data missing or out of range</td>\n",
       "      <td>NaN</td>\n",
       "      <td>998.0</td>\n",
       "      <td>None</td>\n",
       "      <td>None</td>\n",
       "      <td>Data missing or out of range</td>\n",
       "      <td>Data missing or out of range</td>\n",
       "      <td>...</td>\n",
       "      <td>None</td>\n",
       "      <td>No tow/articulation</td>\n",
       "      <td>Did not leave carriageway</td>\n",
       "      <td>0.0</td>\n",
       "      <td>Turning right</td>\n",
       "      <td>1</td>\n",
       "      <td>109</td>\n",
       "      <td>Data missing or out of range</td>\n",
       "      <td>Front</td>\n",
       "      <td>2004</td>\n",
       "    </tr>\n",
       "    <tr>\n",
       "      <th>3</th>\n",
       "      <td>200401BS00003</td>\n",
       "      <td>66 - 75</td>\n",
       "      <td>NaN</td>\n",
       "      <td>Data missing or out of range</td>\n",
       "      <td>NaN</td>\n",
       "      <td>NaN</td>\n",
       "      <td>None</td>\n",
       "      <td>None</td>\n",
       "      <td>Data missing or out of range</td>\n",
       "      <td>Data missing or out of range</td>\n",
       "      <td>...</td>\n",
       "      <td>None</td>\n",
       "      <td>No tow/articulation</td>\n",
       "      <td>Did not leave carriageway</td>\n",
       "      <td>0.0</td>\n",
       "      <td>Going ahead other</td>\n",
       "      <td>2</td>\n",
       "      <td>109</td>\n",
       "      <td>Data missing or out of range</td>\n",
       "      <td>Front</td>\n",
       "      <td>2004</td>\n",
       "    </tr>\n",
       "    <tr>\n",
       "      <th>4</th>\n",
       "      <td>200401BS00004</td>\n",
       "      <td>26 - 35</td>\n",
       "      <td>1.0</td>\n",
       "      <td>Urban area</td>\n",
       "      <td>4.0</td>\n",
       "      <td>124.0</td>\n",
       "      <td>None</td>\n",
       "      <td>None</td>\n",
       "      <td>Data missing or out of range</td>\n",
       "      <td>Data missing or out of range</td>\n",
       "      <td>...</td>\n",
       "      <td>None</td>\n",
       "      <td>No tow/articulation</td>\n",
       "      <td>Did not leave carriageway</td>\n",
       "      <td>0.0</td>\n",
       "      <td>Going ahead other</td>\n",
       "      <td>1</td>\n",
       "      <td>Motorcycle 125cc and under</td>\n",
       "      <td>Data missing or out of range</td>\n",
       "      <td>Front</td>\n",
       "      <td>2004</td>\n",
       "    </tr>\n",
       "  </tbody>\n",
       "</table>\n",
       "<p>5 rows × 24 columns</p>\n",
       "</div>"
      ],
      "text/plain": [
       "  Accident_Index Age_Band_of_Driver  Age_of_Vehicle  \\\n",
       "0  200401BS00001            26 - 35             3.0   \n",
       "1  200401BS00002            26 - 35             NaN   \n",
       "2  200401BS00003            26 - 35             4.0   \n",
       "3  200401BS00003            66 - 75             NaN   \n",
       "4  200401BS00004            26 - 35             1.0   \n",
       "\n",
       "          Driver_Home_Area_Type  Driver_IMD_Decile  Engine_Capacity_.CC.  \\\n",
       "0                    Urban area                4.0                1588.0   \n",
       "1                    Urban area                3.0                   NaN   \n",
       "2  Data missing or out of range                NaN                 998.0   \n",
       "3  Data missing or out of range                NaN                   NaN   \n",
       "4                    Urban area                4.0                 124.0   \n",
       "\n",
       "  Hit_Object_in_Carriageway Hit_Object_off_Carriageway  \\\n",
       "0                      None                       None   \n",
       "1                      None                       None   \n",
       "2                      None                       None   \n",
       "3                      None                       None   \n",
       "4                      None                       None   \n",
       "\n",
       "      Journey_Purpose_of_Driver             Junction_Location  ...  \\\n",
       "0  Data missing or out of range  Data missing or out of range  ...   \n",
       "1  Data missing or out of range  Data missing or out of range  ...   \n",
       "2  Data missing or out of range  Data missing or out of range  ...   \n",
       "3  Data missing or out of range  Data missing or out of range  ...   \n",
       "4  Data missing or out of range  Data missing or out of range  ...   \n",
       "\n",
       "  Skidding_and_Overturning Towing_and_Articulation  \\\n",
       "0                     None     No tow/articulation   \n",
       "1                     None     No tow/articulation   \n",
       "2                     None     No tow/articulation   \n",
       "3                     None     No tow/articulation   \n",
       "4                     None     No tow/articulation   \n",
       "\n",
       "  Vehicle_Leaving_Carriageway Vehicle_Location.Restricted_Lane  \\\n",
       "0   Did not leave carriageway                              0.0   \n",
       "1   Did not leave carriageway                              0.0   \n",
       "2   Did not leave carriageway                              0.0   \n",
       "3   Did not leave carriageway                              0.0   \n",
       "4   Did not leave carriageway                              0.0   \n",
       "\n",
       "   Vehicle_Manoeuvre Vehicle_Reference                Vehicle_Type  \\\n",
       "0  Going ahead other                 2                         109   \n",
       "1  Going ahead other                 1                         109   \n",
       "2      Turning right                 1                         109   \n",
       "3  Going ahead other                 2                         109   \n",
       "4  Going ahead other                 1  Motorcycle 125cc and under   \n",
       "\n",
       "    Was_Vehicle_Left_Hand_Drive X1st_Point_of_Impact  Year  \n",
       "0  Data missing or out of range                Front  2004  \n",
       "1  Data missing or out of range                Front  2004  \n",
       "2  Data missing or out of range                Front  2004  \n",
       "3  Data missing or out of range                Front  2004  \n",
       "4  Data missing or out of range                Front  2004  \n",
       "\n",
       "[5 rows x 24 columns]"
      ]
     },
     "execution_count": 3,
     "metadata": {},
     "output_type": "execute_result"
    }
   ],
   "source": [
    "#read Vehicle Information into DataFrame\n",
    "df_Veh = pd.read_csv(\"Vehicle_Information.csv\",engine = 'python')\n",
    "df_Veh.head()"
   ]
  },
  {
   "cell_type": "code",
   "execution_count": 4,
   "metadata": {},
   "outputs": [
    {
     "name": "stdout",
     "output_type": "stream",
     "text": [
      "(2047256, 34)\n",
      "(2177205, 24)\n"
     ]
    }
   ],
   "source": [
    "print(df_Acc.shape)\n",
    "print(df_Veh.shape)"
   ]
  },
  {
   "cell_type": "code",
   "execution_count": 5,
   "metadata": {},
   "outputs": [
    {
     "data": {
      "text/plain": [
       "(2058408, 57)"
      ]
     },
     "execution_count": 5,
     "metadata": {},
     "output_type": "execute_result"
    }
   ],
   "source": [
    "#merging the two datasets inner join\n",
    "df = pd.merge(df_Acc,df_Veh, how = 'inner', on = 'Accident_Index')\n",
    "df.shape"
   ]
  },
  {
   "cell_type": "markdown",
   "metadata": {},
   "source": []
  },
  {
   "cell_type": "code",
   "execution_count": 6,
   "metadata": {
    "scrolled": false
   },
   "outputs": [
    {
     "data": {
      "text/plain": [
       "Index(['Accident_Index', '1st_Road_Class', '1st_Road_Number', '2nd_Road_Class',\n",
       "       '2nd_Road_Number', 'Accident_Severity', 'Carriageway_Hazards', 'Date',\n",
       "       'Day_of_Week', 'Did_Police_Officer_Attend_Scene_of_Accident',\n",
       "       'Junction_Control', 'Junction_Detail', 'Latitude', 'Light_Conditions',\n",
       "       'Local_Authority_(District)', 'Local_Authority_(Highway)',\n",
       "       'Location_Easting_OSGR', 'Location_Northing_OSGR', 'Longitude',\n",
       "       'LSOA_of_Accident_Location', 'Number_of_Casualties',\n",
       "       'Number_of_Vehicles', 'Pedestrian_Crossing-Human_Control',\n",
       "       'Pedestrian_Crossing-Physical_Facilities', 'Police_Force',\n",
       "       'Road_Surface_Conditions', 'Road_Type', 'Special_Conditions_at_Site',\n",
       "       'Speed_limit', 'Time', 'Urban_or_Rural_Area', 'Weather_Conditions',\n",
       "       'Year_x', 'InScotland', 'Age_Band_of_Driver', 'Age_of_Vehicle',\n",
       "       'Driver_Home_Area_Type', 'Driver_IMD_Decile', 'Engine_Capacity_.CC.',\n",
       "       'Hit_Object_in_Carriageway', 'Hit_Object_off_Carriageway',\n",
       "       'Journey_Purpose_of_Driver', 'Junction_Location', 'make', 'model',\n",
       "       'Propulsion_Code', 'Sex_of_Driver', 'Skidding_and_Overturning',\n",
       "       'Towing_and_Articulation', 'Vehicle_Leaving_Carriageway',\n",
       "       'Vehicle_Location.Restricted_Lane', 'Vehicle_Manoeuvre',\n",
       "       'Vehicle_Reference', 'Vehicle_Type', 'Was_Vehicle_Left_Hand_Drive',\n",
       "       'X1st_Point_of_Impact', 'Year_y'],\n",
       "      dtype='object')"
      ]
     },
     "execution_count": 6,
     "metadata": {},
     "output_type": "execute_result"
    }
   ],
   "source": [
    "#Delete this cell \n",
    "df.columns"
   ]
  },
  {
   "cell_type": "markdown",
   "metadata": {},
   "source": [
    "## Feature Selection and Data Cleaning <a name=\"Feature\"></a>"
   ]
  },
  {
   "cell_type": "markdown",
   "metadata": {},
   "source": [
    "Next, we choose the fields of data that will be relevant in helping us predict Accident Severity and Probability of the Accident.\n",
    "\n",
    "Particularly, \n",
    "we choose information that is available before the occurence of the Accident, and do not consider data columns that are dependent on Accident itself.\n",
    "\n",
    "</p>For example,Number of Casualties is directly proportional and defines the Severity of an accident, but it is determined once the accident has occured.To use it in our model will have a direct impact on our Accident Severity prediction.Logically, you cannot predict the number of Casualties in an Accident, without the accident having already taken place.</p>\n",
    "\n",
    "</p>With an iterative process of Exploratory Data analysis and Visualisation,the following features were chosen :\n",
    "\n",
    "* Light Conditions\n",
    "* Road Surface Conditions\n",
    "* Weather Conditions\n",
    "* Road Type\n",
    "* Sex of Driver\n",
    "* Day of the Week \n",
    "* Vehicle Age\n",
    "* Driver Age Band\n",
    "* Urban or Rural Area \n",
    "* Junction Detail\n",
    "<]/p>"
   ]
  },
  {
   "cell_type": "code",
   "execution_count": 7,
   "metadata": {},
   "outputs": [
    {
     "data": {
      "text/plain": [
       "(2058408, 13)"
      ]
     },
     "execution_count": 7,
     "metadata": {},
     "output_type": "execute_result"
    }
   ],
   "source": [
    "#choosing relevant columns into df1\n",
    "# 'Engine_Capacity_.CC.' , 'Accident_Index', 'Speed_limit'\n",
    "#dropping 'Special_Conditions_at_Site' in this run \n",
    "df1 = df[['Accident_Index','Age_Band_of_Driver', 'Speed_limit','Sex_of_Driver','Day_of_Week','Junction_Detail','Light_Conditions','Road_Surface_Conditions', 'Road_Type',\n",
    "          'Vehicle_Type','Urban_or_Rural_Area', 'Weather_Conditions','Accident_Severity']]\n",
    "df1.shape"
   ]
  },
  {
   "cell_type": "code",
   "execution_count": 8,
   "metadata": {
    "scrolled": false
   },
   "outputs": [
    {
     "data": {
      "text/html": [
       "<div>\n",
       "<style scoped>\n",
       "    .dataframe tbody tr th:only-of-type {\n",
       "        vertical-align: middle;\n",
       "    }\n",
       "\n",
       "    .dataframe tbody tr th {\n",
       "        vertical-align: top;\n",
       "    }\n",
       "\n",
       "    .dataframe thead th {\n",
       "        text-align: right;\n",
       "    }\n",
       "</style>\n",
       "<table border=\"1\" class=\"dataframe\">\n",
       "  <thead>\n",
       "    <tr style=\"text-align: right;\">\n",
       "      <th></th>\n",
       "      <th>Accident_Index</th>\n",
       "      <th>Age_Band_of_Driver</th>\n",
       "      <th>Speed_limit</th>\n",
       "      <th>Sex_of_Driver</th>\n",
       "      <th>Day_of_Week</th>\n",
       "      <th>Junction_Detail</th>\n",
       "      <th>Light_Conditions</th>\n",
       "      <th>Road_Surface_Conditions</th>\n",
       "      <th>Road_Type</th>\n",
       "      <th>Vehicle_Type</th>\n",
       "      <th>Urban_or_Rural_Area</th>\n",
       "      <th>Weather_Conditions</th>\n",
       "      <th>Accident_Severity</th>\n",
       "    </tr>\n",
       "  </thead>\n",
       "  <tbody>\n",
       "    <tr>\n",
       "      <th>2058403</th>\n",
       "      <td>2016984131116</td>\n",
       "      <td>21 - 25</td>\n",
       "      <td>60.0</td>\n",
       "      <td>Female</td>\n",
       "      <td>Tuesday</td>\n",
       "      <td>Crossroads</td>\n",
       "      <td>Daylight</td>\n",
       "      <td>Dry</td>\n",
       "      <td>Single carriageway</td>\n",
       "      <td>Car</td>\n",
       "      <td>Rural</td>\n",
       "      <td>Fine no high winds</td>\n",
       "      <td>Slight</td>\n",
       "    </tr>\n",
       "    <tr>\n",
       "      <th>2058404</th>\n",
       "      <td>2016984131116</td>\n",
       "      <td>56 - 65</td>\n",
       "      <td>60.0</td>\n",
       "      <td>Female</td>\n",
       "      <td>Tuesday</td>\n",
       "      <td>Crossroads</td>\n",
       "      <td>Daylight</td>\n",
       "      <td>Dry</td>\n",
       "      <td>Single carriageway</td>\n",
       "      <td>Car</td>\n",
       "      <td>Rural</td>\n",
       "      <td>Fine no high winds</td>\n",
       "      <td>Slight</td>\n",
       "    </tr>\n",
       "    <tr>\n",
       "      <th>2058405</th>\n",
       "      <td>2016984131216</td>\n",
       "      <td>56 - 65</td>\n",
       "      <td>70.0</td>\n",
       "      <td>Male</td>\n",
       "      <td>Thursday</td>\n",
       "      <td>Not at junction or within 20 metres</td>\n",
       "      <td>Darkness - no lighting</td>\n",
       "      <td>Wet or damp</td>\n",
       "      <td>Dual carriageway</td>\n",
       "      <td>Goods 7.5 tonnes mgw and over</td>\n",
       "      <td>Rural</td>\n",
       "      <td>Fine no high winds</td>\n",
       "      <td>Slight</td>\n",
       "    </tr>\n",
       "    <tr>\n",
       "      <th>2058406</th>\n",
       "      <td>2016984131316</td>\n",
       "      <td>16 - 20</td>\n",
       "      <td>40.0</td>\n",
       "      <td>Male</td>\n",
       "      <td>Saturday</td>\n",
       "      <td>Not at junction or within 20 metres</td>\n",
       "      <td>Darkness - lights lit</td>\n",
       "      <td>Dry</td>\n",
       "      <td>Single carriageway</td>\n",
       "      <td>Car</td>\n",
       "      <td>Rural</td>\n",
       "      <td>Fine no high winds</td>\n",
       "      <td>Slight</td>\n",
       "    </tr>\n",
       "    <tr>\n",
       "      <th>2058407</th>\n",
       "      <td>2016984133416</td>\n",
       "      <td>46 - 55</td>\n",
       "      <td>70.0</td>\n",
       "      <td>Male</td>\n",
       "      <td>Sunday</td>\n",
       "      <td>Not at junction or within 20 metres</td>\n",
       "      <td>Daylight</td>\n",
       "      <td>Wet or damp</td>\n",
       "      <td>Dual carriageway</td>\n",
       "      <td>Car</td>\n",
       "      <td>Rural</td>\n",
       "      <td>Raining + high winds</td>\n",
       "      <td>Slight</td>\n",
       "    </tr>\n",
       "  </tbody>\n",
       "</table>\n",
       "</div>"
      ],
      "text/plain": [
       "        Accident_Index Age_Band_of_Driver  Speed_limit Sex_of_Driver  \\\n",
       "2058403  2016984131116            21 - 25         60.0        Female   \n",
       "2058404  2016984131116            56 - 65         60.0        Female   \n",
       "2058405  2016984131216            56 - 65         70.0          Male   \n",
       "2058406  2016984131316            16 - 20         40.0          Male   \n",
       "2058407  2016984133416            46 - 55         70.0          Male   \n",
       "\n",
       "        Day_of_Week                      Junction_Detail  \\\n",
       "2058403     Tuesday                           Crossroads   \n",
       "2058404     Tuesday                           Crossroads   \n",
       "2058405    Thursday  Not at junction or within 20 metres   \n",
       "2058406    Saturday  Not at junction or within 20 metres   \n",
       "2058407      Sunday  Not at junction or within 20 metres   \n",
       "\n",
       "               Light_Conditions Road_Surface_Conditions           Road_Type  \\\n",
       "2058403                Daylight                     Dry  Single carriageway   \n",
       "2058404                Daylight                     Dry  Single carriageway   \n",
       "2058405  Darkness - no lighting             Wet or damp    Dual carriageway   \n",
       "2058406   Darkness - lights lit                     Dry  Single carriageway   \n",
       "2058407                Daylight             Wet or damp    Dual carriageway   \n",
       "\n",
       "                          Vehicle_Type Urban_or_Rural_Area  \\\n",
       "2058403                            Car               Rural   \n",
       "2058404                            Car               Rural   \n",
       "2058405  Goods 7.5 tonnes mgw and over               Rural   \n",
       "2058406                            Car               Rural   \n",
       "2058407                            Car               Rural   \n",
       "\n",
       "           Weather_Conditions Accident_Severity  \n",
       "2058403    Fine no high winds            Slight  \n",
       "2058404    Fine no high winds            Slight  \n",
       "2058405    Fine no high winds            Slight  \n",
       "2058406    Fine no high winds            Slight  \n",
       "2058407  Raining + high winds            Slight  "
      ]
     },
     "execution_count": 8,
     "metadata": {},
     "output_type": "execute_result"
    }
   ],
   "source": [
    "df1.tail()"
   ]
  },
  {
   "cell_type": "markdown",
   "metadata": {},
   "source": [
    "Dropping any rows with no/empty column values from the DataFrame"
   ]
  },
  {
   "cell_type": "code",
   "execution_count": 9,
   "metadata": {
    "scrolled": true
   },
   "outputs": [
    {
     "name": "stderr",
     "output_type": "stream",
     "text": [
      "<ipython-input-9-af3f5437cca3>:1: SettingWithCopyWarning: \n",
      "A value is trying to be set on a copy of a slice from a DataFrame\n",
      "\n",
      "See the caveats in the documentation: https://pandas.pydata.org/pandas-docs/stable/user_guide/indexing.html#returning-a-view-versus-a-copy\n",
      "  df1.dropna(axis = 0,inplace = True)\n"
     ]
    },
    {
     "data": {
      "text/plain": [
       "(2058343, 13)"
      ]
     },
     "execution_count": 9,
     "metadata": {},
     "output_type": "execute_result"
    }
   ],
   "source": [
    "df1.dropna(axis = 0,inplace = True)\n",
    "\n",
    "df1.shape"
   ]
  },
  {
   "cell_type": "markdown",
   "metadata": {},
   "source": [
    "Removing rows with Data values out of range (-1) or Unknown"
   ]
  },
  {
   "cell_type": "code",
   "execution_count": 10,
   "metadata": {
    "scrolled": true
   },
   "outputs": [
    {
     "name": "stderr",
     "output_type": "stream",
     "text": [
      "C:\\ProgramData\\Anaconda3\\lib\\site-packages\\pandas\\core\\frame.py:3990: SettingWithCopyWarning: \n",
      "A value is trying to be set on a copy of a slice from a DataFrame\n",
      "\n",
      "See the caveats in the documentation: https://pandas.pydata.org/pandas-docs/stable/user_guide/indexing.html#returning-a-view-versus-a-copy\n",
      "  return super().drop(\n",
      "C:\\ProgramData\\Anaconda3\\lib\\site-packages\\pandas\\core\\ops\\array_ops.py:253: FutureWarning: elementwise comparison failed; returning scalar instead, but in the future will perform elementwise comparison\n",
      "  res_values = method(rvalues)\n"
     ]
    },
    {
     "data": {
      "text/plain": [
       "(1856096, 13)"
      ]
     },
     "execution_count": 10,
     "metadata": {},
     "output_type": "execute_result"
    }
   ],
   "source": [
    "#for loop to loop through the chosen column parameters/features and remove rows with -1 value corresponding to Data out of range\n",
    "\n",
    "list1 = df1.columns\n",
    "\n",
    "for x in list1:\n",
    "    indexNames = df1[df1[x]== -1].index\n",
    "    df1.drop(indexNames,axis = 0,inplace = True)\n",
    "    rangeIndex = df1[df1[x]== \"Data missing or out of range\"].index\n",
    "    df1.drop(rangeIndex,axis = 0,inplace = True)\n",
    "    UnknownIndex = df1[df1[x]== \"Unknown\"].index\n",
    "    df1.drop(UnknownIndex,axis = 0,inplace = True)\n",
    "\n",
    "#Dimensions of dataframe after operation    \n",
    "df1.shape"
   ]
  },
  {
   "cell_type": "code",
   "execution_count": 11,
   "metadata": {},
   "outputs": [],
   "source": [
    "indexNames = df1[df1['Sex_of_Driver']== 'Not known'].index\n",
    "df1.drop(indexNames,axis = 0,inplace = True)\n",
    "indexNames = df1[df1['Urban_or_Rural_Area']== 'Unallocated'].index\n",
    "df1.drop(indexNames,axis = 0,inplace = True)\n",
    "indexNames = df1[df1['Weather_Conditions']== 'Other'].index\n",
    "df1.drop(indexNames,axis = 0,inplace = True)"
   ]
  },
  {
   "cell_type": "code",
   "execution_count": 12,
   "metadata": {},
   "outputs": [
    {
     "data": {
      "text/plain": [
       "Accident_Index             object\n",
       "Age_Band_of_Driver         object\n",
       "Speed_limit                 int32\n",
       "Sex_of_Driver              object\n",
       "Day_of_Week                object\n",
       "Junction_Detail            object\n",
       "Light_Conditions           object\n",
       "Road_Surface_Conditions    object\n",
       "Road_Type                  object\n",
       "Vehicle_Type               object\n",
       "Urban_or_Rural_Area        object\n",
       "Weather_Conditions         object\n",
       "Accident_Severity          object\n",
       "dtype: object"
      ]
     },
     "execution_count": 12,
     "metadata": {},
     "output_type": "execute_result"
    }
   ],
   "source": [
    "#making sure that Speed_limit is of type integer\n",
    "df1.astype({'Speed_limit' : 'int32'}).dtypes"
   ]
  },
  {
   "cell_type": "markdown",
   "metadata": {},
   "source": [
    "Plotting the distribution of Accident Severity in the Dataset : "
   ]
  },
  {
   "cell_type": "code",
   "execution_count": 13,
   "metadata": {},
   "outputs": [
    {
     "data": {
      "image/png": "[encoded data removed]",
      "text/plain": [
       "<Figure size 720x432 with 1 Axes>"
      ]
     },
     "metadata": {
      "needs_background": "light"
     },
     "output_type": "display_data"
    }
   ],
   "source": [
    "fig, ax = plt.subplots(figsize = (10,6))\n",
    "ax = sns.countplot(x = 'Accident_Severity',data = df1,palette = 'Set2')\n",
    "\n",
    "for p in ax.patches:\n",
    "        percentage = (p.get_height()*100/1571318)\n",
    "        x = p.get_x() + p.get_width()/6\n",
    "        y = p.get_height() + 30000\n",
    "        ax.annotate(percentage, (x, y))\n"
   ]
  },
  {
   "cell_type": "markdown",
   "metadata": {},
   "source": [
    "#### The ratio of slight to serious to Fatal accidents is approximately 85 : 13 : 2"
   ]
  },
  {
   "cell_type": "code",
   "execution_count": 14,
   "metadata": {
    "scrolled": true
   },
   "outputs": [
    {
     "data": {
      "text/plain": [
       "Slight     1544586\n",
       "Serious     242173\n",
       "Fatal        25631\n",
       "Name: Accident_Severity, dtype: int64"
      ]
     },
     "execution_count": 14,
     "metadata": {},
     "output_type": "execute_result"
    }
   ],
   "source": [
    "df1['Accident_Severity'].value_counts()"
   ]
  },
  {
   "cell_type": "markdown",
   "metadata": {},
   "source": [
    "</p>Our current dataset has over 2 million rows, which will take a considerable amount of time to compute and process.Futhermore, the dataset is not balanced, with over 1.3 million rows predicting a 'Slight' Accident Severity.To cut down on processing and compute times,we are downsampling the dataset to a maximum limit of 650,000 rows.</p>\n"
   ]
  },
  {
   "cell_type": "code",
   "execution_count": 15,
   "metadata": {},
   "outputs": [],
   "source": [
    "#resampling \n",
    "#since 2 million rows involves too much computation time and the majority of rows are predicting severity slight, lets try\n",
    "# resampling with a max of 600,000 rows \n",
    "from sklearn.utils import resample\n",
    "\n",
    "df_slight = df1[df1.Accident_Severity == 'Slight']\n",
    "df_serious = df1[df1.Accident_Severity == 'Serious']\n",
    "df_fatal = df1[df1.Accident_Severity == 'Fatal']\n",
    "\n",
    "df_slight_downsampled = resample(df_slight, \n",
    "                                 replace=False,    # sample without replacement\n",
    "                                 n_samples= 373665,     # to match minority class\n",
    "                                 random_state=4) # reproducible results"
   ]
  },
  {
   "cell_type": "code",
   "execution_count": 16,
   "metadata": {},
   "outputs": [
    {
     "name": "stdout",
     "output_type": "stream",
     "text": [
      "(1544586, 13) (242173, 13) (25631, 13)\n"
     ]
    }
   ],
   "source": [
    "print(df_slight.shape,df_serious.shape,df_fatal.shape)"
   ]
  },
  {
   "cell_type": "code",
   "execution_count": 17,
   "metadata": {},
   "outputs": [
    {
     "data": {
      "text/plain": [
       "(641469, 13)"
      ]
     },
     "execution_count": 17,
     "metadata": {},
     "output_type": "execute_result"
    }
   ],
   "source": [
    "df_down = pd.concat([df_slight_downsampled,df_serious,df_fatal],axis = 0)\n",
    "\n",
    "df_down.shape"
   ]
  },
  {
   "cell_type": "markdown",
   "metadata": {},
   "source": [
    "</p>Preliminary runs of the model showed that the model performance on predicting accidents of Fatal Severity was below par, mainly due to the small number of records available to train the model.Initial runs produced results with accuracy less than 10%. \n",
    "This is a major contributor to bringing down the average model performance.Therefore, we are combining the 'Serious' and 'Fatal' categories of Accident Severity into a composite \"Serious or Fatal\" category.</p> "
   ]
  },
  {
   "cell_type": "code",
   "execution_count": 18,
   "metadata": {},
   "outputs": [],
   "source": [
    "df_down['Accident_Severity'].value_counts()\n",
    "df_down['Accident_Severity'].replace('Fatal','Serious or Fatal',inplace = True)\n",
    "df_down['Accident_Severity'].replace('Serious','Serious or Fatal',inplace = True)"
   ]
  },
  {
   "cell_type": "code",
   "execution_count": 19,
   "metadata": {},
   "outputs": [
    {
     "data": {
      "text/html": [
       "<div>\n",
       "<style scoped>\n",
       "    .dataframe tbody tr th:only-of-type {\n",
       "        vertical-align: middle;\n",
       "    }\n",
       "\n",
       "    .dataframe tbody tr th {\n",
       "        vertical-align: top;\n",
       "    }\n",
       "\n",
       "    .dataframe thead th {\n",
       "        text-align: right;\n",
       "    }\n",
       "</style>\n",
       "<table border=\"1\" class=\"dataframe\">\n",
       "  <thead>\n",
       "    <tr style=\"text-align: right;\">\n",
       "      <th></th>\n",
       "      <th>Accident_Severity</th>\n",
       "    </tr>\n",
       "  </thead>\n",
       "  <tbody>\n",
       "    <tr>\n",
       "      <th>Slight</th>\n",
       "      <td>373665</td>\n",
       "    </tr>\n",
       "    <tr>\n",
       "      <th>Serious or Fatal</th>\n",
       "      <td>267804</td>\n",
       "    </tr>\n",
       "  </tbody>\n",
       "</table>\n",
       "</div>"
      ],
      "text/plain": [
       "                  Accident_Severity\n",
       "Slight                       373665\n",
       "Serious or Fatal             267804"
      ]
     },
     "execution_count": 19,
     "metadata": {},
     "output_type": "execute_result"
    }
   ],
   "source": [
    "split=pd.DataFrame(df_down['Accident_Severity'].value_counts())\n",
    "split"
   ]
  },
  {
   "cell_type": "markdown",
   "metadata": {},
   "source": [
    "## Feature Optimization and Visualization <a name = \"Optimization\"></a>"
   ]
  },
  {
   "cell_type": "markdown",
   "metadata": {},
   "source": [
    "</p>In the Visualization section, we plot and graphically visualize our chosen variables to identify trends in each variable.</p>"
   ]
  },
  {
   "cell_type": "code",
   "execution_count": 20,
   "metadata": {
    "scrolled": false
   },
   "outputs": [
    {
     "data": {
      "text/html": [
       "<div>\n",
       "<style scoped>\n",
       "    .dataframe tbody tr th:only-of-type {\n",
       "        vertical-align: middle;\n",
       "    }\n",
       "\n",
       "    .dataframe tbody tr th {\n",
       "        vertical-align: top;\n",
       "    }\n",
       "\n",
       "    .dataframe thead th {\n",
       "        text-align: right;\n",
       "    }\n",
       "</style>\n",
       "<table border=\"1\" class=\"dataframe\">\n",
       "  <thead>\n",
       "    <tr style=\"text-align: right;\">\n",
       "      <th></th>\n",
       "      <th>Weather_Conditions</th>\n",
       "    </tr>\n",
       "  </thead>\n",
       "  <tbody>\n",
       "    <tr>\n",
       "      <th>Fine no high winds</th>\n",
       "      <td>539208</td>\n",
       "    </tr>\n",
       "    <tr>\n",
       "      <th>Raining no high winds</th>\n",
       "      <td>75498</td>\n",
       "    </tr>\n",
       "    <tr>\n",
       "      <th>Raining + high winds</th>\n",
       "      <td>9226</td>\n",
       "    </tr>\n",
       "    <tr>\n",
       "      <th>Fine + high winds</th>\n",
       "      <td>8606</td>\n",
       "    </tr>\n",
       "    <tr>\n",
       "      <th>Snowing no high winds</th>\n",
       "      <td>4104</td>\n",
       "    </tr>\n",
       "    <tr>\n",
       "      <th>Fog or mist</th>\n",
       "      <td>4019</td>\n",
       "    </tr>\n",
       "    <tr>\n",
       "      <th>Snowing + high winds</th>\n",
       "      <td>808</td>\n",
       "    </tr>\n",
       "  </tbody>\n",
       "</table>\n",
       "</div>"
      ],
      "text/plain": [
       "                       Weather_Conditions\n",
       "Fine no high winds                 539208\n",
       "Raining no high winds               75498\n",
       "Raining + high winds                 9226\n",
       "Fine + high winds                    8606\n",
       "Snowing no high winds                4104\n",
       "Fog or mist                          4019\n",
       "Snowing + high winds                  808"
      ]
     },
     "execution_count": 20,
     "metadata": {},
     "output_type": "execute_result"
    }
   ],
   "source": [
    "weather = pd.DataFrame(df_down['Weather_Conditions'].value_counts())\n",
    "weather"
   ]
  },
  {
   "cell_type": "code",
   "execution_count": 21,
   "metadata": {},
   "outputs": [
    {
     "data": {
      "text/plain": [
       "<seaborn.axisgrid.FacetGrid at 0x2901b85d3a0>"
      ]
     },
     "execution_count": 21,
     "metadata": {},
     "output_type": "execute_result"
    },
    {
     "data": {
      "image/png": "[encoded data removed]",
      "text/plain": [
       "<Figure size 1042.05x464.4 with 1 Axes>"
      ]
     },
     "metadata": {
      "needs_background": "light"
     },
     "output_type": "display_data"
    }
   ],
   "source": [
    "sns.catplot(y=\"Weather_Conditions\", hue=\"Accident_Severity\", kind = 'count',sharex = True,\n",
    "                 sharey = False,data=df_down,dodge = True,height = 6.45,aspect = 2)"
   ]
  },
  {
   "cell_type": "markdown",
   "metadata": {},
   "source": [
    "</p>As we can see, the Weather conditions are split to numerous categories with some categories barely having any data. We are combining these similar categories together to reduce the number of different categories and increase the data available in each category, thereby hopefully improving model performance. </p>"
   ]
  },
  {
   "cell_type": "code",
   "execution_count": 22,
   "metadata": {},
   "outputs": [
    {
     "data": {
      "text/plain": [
       "Fine           547814\n",
       "Rain            84724\n",
       "Snow             4912\n",
       "Fog or mist      4019\n",
       "Name: Weather_Conditions, dtype: int64"
      ]
     },
     "execution_count": 22,
     "metadata": {},
     "output_type": "execute_result"
    }
   ],
   "source": [
    "#combining subcategories into 1 main category each \n",
    "list1 = ['Fine no high winds','Fine + high winds']\n",
    "df_down['Weather_Conditions'].replace(list1,'Fine', inplace  = True)\n",
    "\n",
    "#\n",
    "list2 = ['Raining no high winds','Raining + high winds']\n",
    "df_down['Weather_Conditions'].replace(list2,'Rain', inplace  = True)\n",
    "\n",
    "list3 = ['Snowing no high winds','Snowing + high winds']\n",
    "df_down['Weather_Conditions'].replace(list3,'Snow', inplace  = True)\n",
    "\n",
    "df_down['Weather_Conditions'].value_counts()"
   ]
  },
  {
   "cell_type": "code",
   "execution_count": 23,
   "metadata": {},
   "outputs": [
    {
     "data": {
      "image/png": "[encoded data removed]",
      "text/plain": [
       "<Figure size 473.25x360 with 1 Axes>"
      ]
     },
     "metadata": {
      "needs_background": "light"
     },
     "output_type": "display_data"
    }
   ],
   "source": [
    "#count of accidents vs Weather conditions\n",
    "g = sns.catplot(x=\"Weather_Conditions\", hue=\"Accident_Severity\", kind = 'count',sharex = True,\n",
    "                 sharey = False,data=df_down,dodge = True)"
   ]
  },
  {
   "cell_type": "code",
   "execution_count": 24,
   "metadata": {},
   "outputs": [
    {
     "data": {
      "image/png": "[encoded data removed]",
      "text/plain": [
       "<Figure size 977.25x432 with 1 Axes>"
      ]
     },
     "metadata": {
      "needs_background": "light"
     },
     "output_type": "display_data"
    }
   ],
   "source": [
    "#Count of Accidents vs Road Surface Conditions\n",
    "ax = sns.catplot(y=\"Road_Surface_Conditions\", hue='Accident_Severity',kind = 'count',sharex = True,\n",
    "                 sharey = False,data=df_down,height = 6,aspect=2,dodge = True,legend = True)\n",
    "#plt.legend(title='Road Conditions', loc='upper right', labels=['Dry','Wet or Damp','Snow','Frost','Rain'])"
   ]
  },
  {
   "cell_type": "code",
   "execution_count": 25,
   "metadata": {},
   "outputs": [
    {
     "data": {
      "image/png": "[encoded data removed]",
      "text/plain": [
       "<Figure size 545.25x432 with 1 Axes>"
      ]
     },
     "metadata": {
      "needs_background": "light"
     },
     "output_type": "display_data"
    }
   ],
   "source": [
    "#Plotting count of Accidents of each severity vs Day_of_Week\n",
    "Weekday_order = ['Monday','Tuesday','Wednesday','Thursday','Friday','Saturday','Sunday']\n",
    "ax = sns.catplot(x=\"Day_of_Week\", hue=\"Accident_Severity\",\n",
    "                data=df_down, kind=\"count\",sharey = False,sharex = True,\n",
    "                height=6, aspect=1,dodge = True,order = Weekday_order)\n",
    "\n",
    "#ax.set_xticklabels(ax.get_xlabels(),rotation = 90,horizontalalignment = 'right')"
   ]
  },
  {
   "cell_type": "code",
   "execution_count": 26,
   "metadata": {},
   "outputs": [
    {
     "data": {
      "image/png": "[encoded data removed]",
      "text/plain": [
       "<Figure size 977.25x432 with 1 Axes>"
      ]
     },
     "metadata": {
      "needs_background": "light"
     },
     "output_type": "display_data"
    }
   ],
   "source": [
    "# Count of Accidents vs Light Conditions\n",
    "#order1 = df_down.groupby(by = ['Light_Conditions'])['Accident_Severity'].sum().sort_values(ascending = False).index\n",
    "ax = sns.catplot(y=\"Light_Conditions\", hue=\"Accident_Severity\",\n",
    "                 data=df_down, kind=\"count\",sharey = True,sharex = False,dodge = True,#order = order1 ,\n",
    "                height=6, aspect=2,palette = 'GnBu')\n",
    "#for p in ax.patches:\n",
    " #   ax.annotate(format(p.get_height(), '.2f'), (p.get_x() + p.get_width() / 2., p.get_height()), ha = 'center', va = 'center', xytext = (0, 10), textcoords = 'offset points')"
   ]
  },
  {
   "cell_type": "code",
   "execution_count": 27,
   "metadata": {},
   "outputs": [
    {
     "data": {
      "image/png": "[encoded data removed]",
      "text/plain": [
       "<Figure size 977.25x432 with 1 Axes>"
      ]
     },
     "metadata": {
      "needs_background": "light"
     },
     "output_type": "display_data"
    }
   ],
   "source": [
    "#count of accidents vs Road Type\n",
    "ax = sns.catplot(x=\"Road_Type\", hue= 'Accident_Severity', kind = 'count',sharex = False,dodge = True,\n",
    "                 sharey = False,data=df_down,height = 6,aspect=2,palette = \"Set1\")"
   ]
  },
  {
   "cell_type": "code",
   "execution_count": 28,
   "metadata": {},
   "outputs": [
    {
     "data": {
      "image/png": "[encoded data removed]",
      "text/plain": [
       "<Figure size 977.25x432 with 1 Axes>"
      ]
     },
     "metadata": {
      "needs_background": "light"
     },
     "output_type": "display_data"
    }
   ],
   "source": [
    "#Junction detail vs no of accidents\n",
    "ax = sns.catplot(y=\"Junction_Detail\", hue=\"Accident_Severity\", kind = 'count',sharex = False,dodge = True,\n",
    "                 sharey = False,data=df_down,height = 6,aspect=2)"
   ]
  },
  {
   "cell_type": "code",
   "execution_count": 29,
   "metadata": {},
   "outputs": [
    {
     "data": {
      "image/png": "[encoded data removed]",
      "text/plain": [
       "<Figure size 977.25x432 with 1 Axes>"
      ]
     },
     "metadata": {
      "needs_background": "light"
     },
     "output_type": "display_data"
    }
   ],
   "source": [
    "#Special conditions at Site vs count of Accidents \n",
    "ax = sns.catplot(y=\"Age_Band_of_Driver\", hue=\"Accident_Severity\",kind = 'count',sharex = False,\n",
    "                 sharey = True,data=df_down,height = 6,aspect=2,dodge = True,palette = 'GnBu')"
   ]
  },
  {
   "cell_type": "markdown",
   "metadata": {},
   "source": [
    "#### Vehicle Types "
   ]
  },
  {
   "cell_type": "code",
   "execution_count": 30,
   "metadata": {},
   "outputs": [
    {
     "data": {
      "image/png": "[encoded data removed]",
      "text/plain": [
       "<Figure size 977.25x288 with 1 Axes>"
      ]
     },
     "metadata": {
      "needs_background": "light"
     },
     "output_type": "display_data"
    }
   ],
   "source": [
    "ax = sns.catplot(y=\"Vehicle_Type\",hue='Accident_Severity', kind = 'count',sharex = False,\n",
    "                 sharey = True,data=df_down,height = 4,aspect=3,dodge = True,palette = 'deep')"
   ]
  },
  {
   "cell_type": "markdown",
   "metadata": {},
   "source": [
    "</p>From the graph above, we see that there are far too many categories of Vehicles with little to no data.Rearranging and combining the specific categories into a more general definition in the next step.</p>"
   ]
  },
  {
   "cell_type": "code",
   "execution_count": 31,
   "metadata": {},
   "outputs": [],
   "source": [
    "# combining all types of Goods vehicles into 1 category\n",
    "list1 = ['Van / Goods 3.5 tonnes mgw or under','Goods 7.5 tonnes mgw and over','Goods over 3.5t. and under 7.5t','Goods vehicle - unknown weight']\n",
    "df_down['Vehicle_Type'].replace(list1,'Goods Vehicle',inplace = True)\n",
    "# combining all types of Motocycles into 1 category\n",
    "list2 = ['Motorcycle over 500cc','Motorcycle 125cc and under','Motorcycle over 125cc and up to 500cc',\n",
    "         'Motorcycle 50cc and under','Motorcycle - unknown cc','Electric motorcycle','Mobility scooter']\n",
    "df_down['Vehicle_Type'].replace(list2,'Motorcycle',inplace = True)\n",
    "# combining all types of Buses into 1 category\n",
    "list3 = ['Bus or coach (17 or more pass seats)','Minibus (8 - 16 passenger seats)']\n",
    "df_down['Vehicle_Type'].replace(list3,'Bus',inplace = True)\n",
    "\n",
    "df_down['Vehicle_Type'].replace('Taxi/Private hire car','Car',inplace = True)"
   ]
  },
  {
   "cell_type": "code",
   "execution_count": 32,
   "metadata": {},
   "outputs": [
    {
     "data": {
      "image/png": "[encoded data removed]",
      "text/plain": [
       "<Figure size 1121.25x504 with 1 Axes>"
      ]
     },
     "metadata": {
      "needs_background": "light"
     },
     "output_type": "display_data"
    }
   ],
   "source": [
    "#replotting Vehicle Type with modified categories\n",
    "ax = sns.catplot(y=\"Vehicle_Type\",hue = 'Accident_Severity', kind = 'count',sharex = True,\n",
    "                 sharey = True,data=df_down,height = 7,aspect=2,dodge = True,palette = 'Set1')"
   ]
  },
  {
   "cell_type": "markdown",
   "metadata": {},
   "source": [
    "Next,we plot the distribution of Accident Severity v/s Type of Area"
   ]
  },
  {
   "cell_type": "code",
   "execution_count": 33,
   "metadata": {},
   "outputs": [
    {
     "data": {
      "image/png": "[encoded data removed]",
      "text/plain": [
       "<Figure size 545.25x432 with 1 Axes>"
      ]
     },
     "metadata": {
      "needs_background": "light"
     },
     "output_type": "display_data"
    }
   ],
   "source": [
    "#Area Type vs count of Accident Severity\n",
    "ax = sns.catplot(x=\"Urban_or_Rural_Area\",hue = 'Accident_Severity', kind = 'count',sharex = False,\n",
    "                 sharey = False,data=df_down,height = 6,aspect=1, dodge = True)"
   ]
  },
  {
   "cell_type": "code",
   "execution_count": 34,
   "metadata": {},
   "outputs": [
    {
     "data": {
      "text/plain": [
       "Male      459707\n",
       "Female    181762\n",
       "Name: Sex_of_Driver, dtype: int64"
      ]
     },
     "execution_count": 34,
     "metadata": {},
     "output_type": "execute_result"
    }
   ],
   "source": [
    "df_down['Sex_of_Driver'].value_counts()"
   ]
  },
  {
   "cell_type": "code",
   "execution_count": 35,
   "metadata": {},
   "outputs": [
    {
     "data": {
      "image/png": "[encoded data removed]",
      "text/plain": [
       "<Figure size 761.25x432 with 1 Axes>"
      ]
     },
     "metadata": {
      "needs_background": "light"
     },
     "output_type": "display_data"
    }
   ],
   "source": [
    "ax = sns.catplot(x=\"Sex_of_Driver\",hue = 'Accident_Severity', kind = 'count',sharex = False,\n",
    "          sharey = False,data=df_down,height = 6,aspect=1.5, dodge = True, palette = 'Set2')"
   ]
  },
  {
   "cell_type": "code",
   "execution_count": 36,
   "metadata": {},
   "outputs": [
    {
     "data": {
      "text/plain": [
       "<seaborn.axisgrid.FacetGrid at 0x290937602b0>"
      ]
     },
     "execution_count": 36,
     "metadata": {},
     "output_type": "execute_result"
    },
    {
     "data": {
      "image/png": "[encoded data removed]",
      "text/plain": [
       "<Figure size 977.25x432 with 1 Axes>"
      ]
     },
     "metadata": {
      "needs_background": "light"
     },
     "output_type": "display_data"
    }
   ],
   "source": [
    "sns.catplot(x=\"Speed_limit\",hue = 'Accident_Severity', kind = 'count',sharex = False,\n",
    "          sharey = False,data=df_down,height = 6,aspect=2, dodge = True, palette = 'Set2')"
   ]
  },
  {
   "cell_type": "markdown",
   "metadata": {},
   "source": [
    "#### Preparing Dataframe for modelling"
   ]
  },
  {
   "cell_type": "code",
   "execution_count": 38,
   "metadata": {},
   "outputs": [
    {
     "data": {
      "text/plain": [
       "Index(['Age_Band_of_Driver', 'Sex_of_Driver', 'Day_of_Week', 'Junction_Detail',\n",
       "       'Light_Conditions', 'Road_Surface_Conditions', 'Road_Type',\n",
       "       'Vehicle_Type', 'Urban_or_Rural_Area', 'Weather_Conditions',\n",
       "       'Accident_Severity'],\n",
       "      dtype='object')"
      ]
     },
     "execution_count": 38,
     "metadata": {},
     "output_type": "execute_result"
    }
   ],
   "source": [
    "#choose categorical columns\n",
    "#target_col = ['Accident_Severity']\n",
    "df_temp = df_down[['Accident_Severity','Speed_limit']]\n",
    "df_down.drop('Speed_limit',axis = 1, inplace = True)\n",
    "df_down.drop('Accident_Index',axis = 1, inplace = True)\n",
    "cat_cols = df_down.columns\n",
    "\n",
    "cat_cols"
   ]
  },
  {
   "cell_type": "code",
   "execution_count": 39,
   "metadata": {},
   "outputs": [],
   "source": [
    "#copying dataframe\n",
    "df_model = df_down[cat_cols].copy()\n",
    "df_model.shape\n",
    "df_model.drop('Accident_Severity', axis = 1, inplace = True)\n"
   ]
  },
  {
   "cell_type": "code",
   "execution_count": 40,
   "metadata": {},
   "outputs": [
    {
     "data": {
      "text/plain": [
       "(641469, 61)"
      ]
     },
     "execution_count": 40,
     "metadata": {},
     "output_type": "execute_result"
    }
   ],
   "source": [
    "#get dummies before merging with numerical columns\n",
    "dummies = pd.get_dummies(df_model, drop_first=False)\n",
    "df_model = pd.concat((df_temp, dummies), axis=1)\n",
    "df_model.shape"
   ]
  },
  {
   "cell_type": "code",
   "execution_count": 43,
   "metadata": {},
   "outputs": [
    {
     "data": {
      "text/html": [
       "<div>\n",
       "<style scoped>\n",
       "    .dataframe tbody tr th:only-of-type {\n",
       "        vertical-align: middle;\n",
       "    }\n",
       "\n",
       "    .dataframe tbody tr th {\n",
       "        vertical-align: top;\n",
       "    }\n",
       "\n",
       "    .dataframe thead th {\n",
       "        text-align: right;\n",
       "    }\n",
       "</style>\n",
       "<table border=\"1\" class=\"dataframe\">\n",
       "  <thead>\n",
       "    <tr style=\"text-align: right;\">\n",
       "      <th></th>\n",
       "      <th>Accident_Severity</th>\n",
       "      <th>Speed_limit</th>\n",
       "      <th>Age_Band_of_Driver_0 - 5</th>\n",
       "      <th>Age_Band_of_Driver_11 - 15</th>\n",
       "      <th>Age_Band_of_Driver_16 - 20</th>\n",
       "      <th>Age_Band_of_Driver_21 - 25</th>\n",
       "      <th>Age_Band_of_Driver_26 - 35</th>\n",
       "      <th>Age_Band_of_Driver_36 - 45</th>\n",
       "      <th>Age_Band_of_Driver_46 - 55</th>\n",
       "      <th>Age_Band_of_Driver_56 - 65</th>\n",
       "      <th>...</th>\n",
       "      <th>Vehicle_Type_Other vehicle</th>\n",
       "      <th>Vehicle_Type_Pedal cycle</th>\n",
       "      <th>Vehicle_Type_Ridden horse</th>\n",
       "      <th>Vehicle_Type_Tram</th>\n",
       "      <th>Urban_or_Rural_Area_Rural</th>\n",
       "      <th>Urban_or_Rural_Area_Urban</th>\n",
       "      <th>Weather_Conditions_Fine</th>\n",
       "      <th>Weather_Conditions_Fog or mist</th>\n",
       "      <th>Weather_Conditions_Rain</th>\n",
       "      <th>Weather_Conditions_Snow</th>\n",
       "    </tr>\n",
       "  </thead>\n",
       "  <tbody>\n",
       "    <tr>\n",
       "      <th>920039</th>\n",
       "      <td>Slight</td>\n",
       "      <td>30.0</td>\n",
       "      <td>0</td>\n",
       "      <td>0</td>\n",
       "      <td>0</td>\n",
       "      <td>0</td>\n",
       "      <td>1</td>\n",
       "      <td>0</td>\n",
       "      <td>0</td>\n",
       "      <td>0</td>\n",
       "      <td>...</td>\n",
       "      <td>0</td>\n",
       "      <td>0</td>\n",
       "      <td>0</td>\n",
       "      <td>0</td>\n",
       "      <td>0</td>\n",
       "      <td>1</td>\n",
       "      <td>1</td>\n",
       "      <td>0</td>\n",
       "      <td>0</td>\n",
       "      <td>0</td>\n",
       "    </tr>\n",
       "    <tr>\n",
       "      <th>458984</th>\n",
       "      <td>Slight</td>\n",
       "      <td>30.0</td>\n",
       "      <td>0</td>\n",
       "      <td>0</td>\n",
       "      <td>0</td>\n",
       "      <td>0</td>\n",
       "      <td>0</td>\n",
       "      <td>0</td>\n",
       "      <td>0</td>\n",
       "      <td>1</td>\n",
       "      <td>...</td>\n",
       "      <td>0</td>\n",
       "      <td>0</td>\n",
       "      <td>0</td>\n",
       "      <td>0</td>\n",
       "      <td>0</td>\n",
       "      <td>1</td>\n",
       "      <td>1</td>\n",
       "      <td>0</td>\n",
       "      <td>0</td>\n",
       "      <td>0</td>\n",
       "    </tr>\n",
       "    <tr>\n",
       "      <th>1490967</th>\n",
       "      <td>Slight</td>\n",
       "      <td>60.0</td>\n",
       "      <td>0</td>\n",
       "      <td>0</td>\n",
       "      <td>0</td>\n",
       "      <td>0</td>\n",
       "      <td>0</td>\n",
       "      <td>1</td>\n",
       "      <td>0</td>\n",
       "      <td>0</td>\n",
       "      <td>...</td>\n",
       "      <td>0</td>\n",
       "      <td>0</td>\n",
       "      <td>0</td>\n",
       "      <td>0</td>\n",
       "      <td>1</td>\n",
       "      <td>0</td>\n",
       "      <td>1</td>\n",
       "      <td>0</td>\n",
       "      <td>0</td>\n",
       "      <td>0</td>\n",
       "    </tr>\n",
       "    <tr>\n",
       "      <th>1586776</th>\n",
       "      <td>Slight</td>\n",
       "      <td>50.0</td>\n",
       "      <td>0</td>\n",
       "      <td>0</td>\n",
       "      <td>0</td>\n",
       "      <td>0</td>\n",
       "      <td>0</td>\n",
       "      <td>1</td>\n",
       "      <td>0</td>\n",
       "      <td>0</td>\n",
       "      <td>...</td>\n",
       "      <td>0</td>\n",
       "      <td>0</td>\n",
       "      <td>0</td>\n",
       "      <td>0</td>\n",
       "      <td>0</td>\n",
       "      <td>1</td>\n",
       "      <td>1</td>\n",
       "      <td>0</td>\n",
       "      <td>0</td>\n",
       "      <td>0</td>\n",
       "    </tr>\n",
       "    <tr>\n",
       "      <th>422025</th>\n",
       "      <td>Slight</td>\n",
       "      <td>30.0</td>\n",
       "      <td>0</td>\n",
       "      <td>0</td>\n",
       "      <td>0</td>\n",
       "      <td>0</td>\n",
       "      <td>0</td>\n",
       "      <td>1</td>\n",
       "      <td>0</td>\n",
       "      <td>0</td>\n",
       "      <td>...</td>\n",
       "      <td>0</td>\n",
       "      <td>0</td>\n",
       "      <td>0</td>\n",
       "      <td>0</td>\n",
       "      <td>0</td>\n",
       "      <td>1</td>\n",
       "      <td>1</td>\n",
       "      <td>0</td>\n",
       "      <td>0</td>\n",
       "      <td>0</td>\n",
       "    </tr>\n",
       "  </tbody>\n",
       "</table>\n",
       "<p>5 rows × 61 columns</p>\n",
       "</div>"
      ],
      "text/plain": [
       "        Accident_Severity  Speed_limit  Age_Band_of_Driver_0 - 5  \\\n",
       "920039             Slight         30.0                         0   \n",
       "458984             Slight         30.0                         0   \n",
       "1490967            Slight         60.0                         0   \n",
       "1586776            Slight         50.0                         0   \n",
       "422025             Slight         30.0                         0   \n",
       "\n",
       "         Age_Band_of_Driver_11 - 15  Age_Band_of_Driver_16 - 20  \\\n",
       "920039                            0                           0   \n",
       "458984                            0                           0   \n",
       "1490967                           0                           0   \n",
       "1586776                           0                           0   \n",
       "422025                            0                           0   \n",
       "\n",
       "         Age_Band_of_Driver_21 - 25  Age_Band_of_Driver_26 - 35  \\\n",
       "920039                            0                           1   \n",
       "458984                            0                           0   \n",
       "1490967                           0                           0   \n",
       "1586776                           0                           0   \n",
       "422025                            0                           0   \n",
       "\n",
       "         Age_Band_of_Driver_36 - 45  Age_Band_of_Driver_46 - 55  \\\n",
       "920039                            0                           0   \n",
       "458984                            0                           0   \n",
       "1490967                           1                           0   \n",
       "1586776                           1                           0   \n",
       "422025                            1                           0   \n",
       "\n",
       "         Age_Band_of_Driver_56 - 65  ...  Vehicle_Type_Other vehicle  \\\n",
       "920039                            0  ...                           0   \n",
       "458984                            1  ...                           0   \n",
       "1490967                           0  ...                           0   \n",
       "1586776                           0  ...                           0   \n",
       "422025                            0  ...                           0   \n",
       "\n",
       "         Vehicle_Type_Pedal cycle  Vehicle_Type_Ridden horse  \\\n",
       "920039                          0                          0   \n",
       "458984                          0                          0   \n",
       "1490967                         0                          0   \n",
       "1586776                         0                          0   \n",
       "422025                          0                          0   \n",
       "\n",
       "         Vehicle_Type_Tram  Urban_or_Rural_Area_Rural  \\\n",
       "920039                   0                          0   \n",
       "458984                   0                          0   \n",
       "1490967                  0                          1   \n",
       "1586776                  0                          0   \n",
       "422025                   0                          0   \n",
       "\n",
       "         Urban_or_Rural_Area_Urban  Weather_Conditions_Fine  \\\n",
       "920039                           1                        1   \n",
       "458984                           1                        1   \n",
       "1490967                          0                        1   \n",
       "1586776                          1                        1   \n",
       "422025                           1                        1   \n",
       "\n",
       "         Weather_Conditions_Fog or mist  Weather_Conditions_Rain  \\\n",
       "920039                                0                        0   \n",
       "458984                                0                        0   \n",
       "1490967                               0                        0   \n",
       "1586776                               0                        0   \n",
       "422025                                0                        0   \n",
       "\n",
       "         Weather_Conditions_Snow  \n",
       "920039                         0  \n",
       "458984                         0  \n",
       "1490967                        0  \n",
       "1586776                        0  \n",
       "422025                         0  \n",
       "\n",
       "[5 rows x 61 columns]"
      ]
     },
     "execution_count": 43,
     "metadata": {},
     "output_type": "execute_result"
    }
   ],
   "source": [
    "df_model.head()"
   ]
  },
  {
   "cell_type": "code",
   "execution_count": 44,
   "metadata": {},
   "outputs": [
    {
     "data": {
      "text/html": [
       "<div>\n",
       "<style scoped>\n",
       "    .dataframe tbody tr th:only-of-type {\n",
       "        vertical-align: middle;\n",
       "    }\n",
       "\n",
       "    .dataframe tbody tr th {\n",
       "        vertical-align: top;\n",
       "    }\n",
       "\n",
       "    .dataframe thead th {\n",
       "        text-align: right;\n",
       "    }\n",
       "</style>\n",
       "<table border=\"1\" class=\"dataframe\">\n",
       "  <thead>\n",
       "    <tr style=\"text-align: right;\">\n",
       "      <th></th>\n",
       "      <th>Accident_Severity</th>\n",
       "      <th>Speed_limit</th>\n",
       "      <th>Age_Band_of_Driver_0 - 5</th>\n",
       "      <th>Age_Band_of_Driver_11 - 15</th>\n",
       "      <th>Age_Band_of_Driver_16 - 20</th>\n",
       "      <th>Age_Band_of_Driver_21 - 25</th>\n",
       "      <th>Age_Band_of_Driver_26 - 35</th>\n",
       "      <th>Age_Band_of_Driver_36 - 45</th>\n",
       "      <th>Age_Band_of_Driver_46 - 55</th>\n",
       "      <th>Age_Band_of_Driver_56 - 65</th>\n",
       "      <th>...</th>\n",
       "      <th>Vehicle_Type_Other vehicle</th>\n",
       "      <th>Vehicle_Type_Pedal cycle</th>\n",
       "      <th>Vehicle_Type_Ridden horse</th>\n",
       "      <th>Vehicle_Type_Tram</th>\n",
       "      <th>Urban_or_Rural_Area_Rural</th>\n",
       "      <th>Urban_or_Rural_Area_Urban</th>\n",
       "      <th>Weather_Conditions_Fine</th>\n",
       "      <th>Weather_Conditions_Fog or mist</th>\n",
       "      <th>Weather_Conditions_Rain</th>\n",
       "      <th>Weather_Conditions_Snow</th>\n",
       "    </tr>\n",
       "  </thead>\n",
       "  <tbody>\n",
       "    <tr>\n",
       "      <th>920039</th>\n",
       "      <td>1</td>\n",
       "      <td>30.0</td>\n",
       "      <td>0</td>\n",
       "      <td>0</td>\n",
       "      <td>0</td>\n",
       "      <td>0</td>\n",
       "      <td>1</td>\n",
       "      <td>0</td>\n",
       "      <td>0</td>\n",
       "      <td>0</td>\n",
       "      <td>...</td>\n",
       "      <td>0</td>\n",
       "      <td>0</td>\n",
       "      <td>0</td>\n",
       "      <td>0</td>\n",
       "      <td>0</td>\n",
       "      <td>1</td>\n",
       "      <td>1</td>\n",
       "      <td>0</td>\n",
       "      <td>0</td>\n",
       "      <td>0</td>\n",
       "    </tr>\n",
       "    <tr>\n",
       "      <th>458984</th>\n",
       "      <td>1</td>\n",
       "      <td>30.0</td>\n",
       "      <td>0</td>\n",
       "      <td>0</td>\n",
       "      <td>0</td>\n",
       "      <td>0</td>\n",
       "      <td>0</td>\n",
       "      <td>0</td>\n",
       "      <td>0</td>\n",
       "      <td>1</td>\n",
       "      <td>...</td>\n",
       "      <td>0</td>\n",
       "      <td>0</td>\n",
       "      <td>0</td>\n",
       "      <td>0</td>\n",
       "      <td>0</td>\n",
       "      <td>1</td>\n",
       "      <td>1</td>\n",
       "      <td>0</td>\n",
       "      <td>0</td>\n",
       "      <td>0</td>\n",
       "    </tr>\n",
       "    <tr>\n",
       "      <th>1490967</th>\n",
       "      <td>1</td>\n",
       "      <td>60.0</td>\n",
       "      <td>0</td>\n",
       "      <td>0</td>\n",
       "      <td>0</td>\n",
       "      <td>0</td>\n",
       "      <td>0</td>\n",
       "      <td>1</td>\n",
       "      <td>0</td>\n",
       "      <td>0</td>\n",
       "      <td>...</td>\n",
       "      <td>0</td>\n",
       "      <td>0</td>\n",
       "      <td>0</td>\n",
       "      <td>0</td>\n",
       "      <td>1</td>\n",
       "      <td>0</td>\n",
       "      <td>1</td>\n",
       "      <td>0</td>\n",
       "      <td>0</td>\n",
       "      <td>0</td>\n",
       "    </tr>\n",
       "    <tr>\n",
       "      <th>1586776</th>\n",
       "      <td>1</td>\n",
       "      <td>50.0</td>\n",
       "      <td>0</td>\n",
       "      <td>0</td>\n",
       "      <td>0</td>\n",
       "      <td>0</td>\n",
       "      <td>0</td>\n",
       "      <td>1</td>\n",
       "      <td>0</td>\n",
       "      <td>0</td>\n",
       "      <td>...</td>\n",
       "      <td>0</td>\n",
       "      <td>0</td>\n",
       "      <td>0</td>\n",
       "      <td>0</td>\n",
       "      <td>0</td>\n",
       "      <td>1</td>\n",
       "      <td>1</td>\n",
       "      <td>0</td>\n",
       "      <td>0</td>\n",
       "      <td>0</td>\n",
       "    </tr>\n",
       "    <tr>\n",
       "      <th>422025</th>\n",
       "      <td>1</td>\n",
       "      <td>30.0</td>\n",
       "      <td>0</td>\n",
       "      <td>0</td>\n",
       "      <td>0</td>\n",
       "      <td>0</td>\n",
       "      <td>0</td>\n",
       "      <td>1</td>\n",
       "      <td>0</td>\n",
       "      <td>0</td>\n",
       "      <td>...</td>\n",
       "      <td>0</td>\n",
       "      <td>0</td>\n",
       "      <td>0</td>\n",
       "      <td>0</td>\n",
       "      <td>0</td>\n",
       "      <td>1</td>\n",
       "      <td>1</td>\n",
       "      <td>0</td>\n",
       "      <td>0</td>\n",
       "      <td>0</td>\n",
       "    </tr>\n",
       "  </tbody>\n",
       "</table>\n",
       "<p>5 rows × 61 columns</p>\n",
       "</div>"
      ],
      "text/plain": [
       "        Accident_Severity  Speed_limit  Age_Band_of_Driver_0 - 5  \\\n",
       "920039                  1         30.0                         0   \n",
       "458984                  1         30.0                         0   \n",
       "1490967                 1         60.0                         0   \n",
       "1586776                 1         50.0                         0   \n",
       "422025                  1         30.0                         0   \n",
       "\n",
       "         Age_Band_of_Driver_11 - 15  Age_Band_of_Driver_16 - 20  \\\n",
       "920039                            0                           0   \n",
       "458984                            0                           0   \n",
       "1490967                           0                           0   \n",
       "1586776                           0                           0   \n",
       "422025                            0                           0   \n",
       "\n",
       "         Age_Band_of_Driver_21 - 25  Age_Band_of_Driver_26 - 35  \\\n",
       "920039                            0                           1   \n",
       "458984                            0                           0   \n",
       "1490967                           0                           0   \n",
       "1586776                           0                           0   \n",
       "422025                            0                           0   \n",
       "\n",
       "         Age_Band_of_Driver_36 - 45  Age_Band_of_Driver_46 - 55  \\\n",
       "920039                            0                           0   \n",
       "458984                            0                           0   \n",
       "1490967                           1                           0   \n",
       "1586776                           1                           0   \n",
       "422025                            1                           0   \n",
       "\n",
       "         Age_Band_of_Driver_56 - 65  ...  Vehicle_Type_Other vehicle  \\\n",
       "920039                            0  ...                           0   \n",
       "458984                            1  ...                           0   \n",
       "1490967                           0  ...                           0   \n",
       "1586776                           0  ...                           0   \n",
       "422025                            0  ...                           0   \n",
       "\n",
       "         Vehicle_Type_Pedal cycle  Vehicle_Type_Ridden horse  \\\n",
       "920039                          0                          0   \n",
       "458984                          0                          0   \n",
       "1490967                         0                          0   \n",
       "1586776                         0                          0   \n",
       "422025                          0                          0   \n",
       "\n",
       "         Vehicle_Type_Tram  Urban_or_Rural_Area_Rural  \\\n",
       "920039                   0                          0   \n",
       "458984                   0                          0   \n",
       "1490967                  0                          1   \n",
       "1586776                  0                          0   \n",
       "422025                   0                          0   \n",
       "\n",
       "         Urban_or_Rural_Area_Urban  Weather_Conditions_Fine  \\\n",
       "920039                           1                        1   \n",
       "458984                           1                        1   \n",
       "1490967                          0                        1   \n",
       "1586776                          1                        1   \n",
       "422025                           1                        1   \n",
       "\n",
       "         Weather_Conditions_Fog or mist  Weather_Conditions_Rain  \\\n",
       "920039                                0                        0   \n",
       "458984                                0                        0   \n",
       "1490967                               0                        0   \n",
       "1586776                               0                        0   \n",
       "422025                                0                        0   \n",
       "\n",
       "         Weather_Conditions_Snow  \n",
       "920039                         0  \n",
       "458984                         0  \n",
       "1490967                        0  \n",
       "1586776                        0  \n",
       "422025                         0  \n",
       "\n",
       "[5 rows x 61 columns]"
      ]
     },
     "execution_count": 44,
     "metadata": {},
     "output_type": "execute_result"
    }
   ],
   "source": [
    "df_model['Accident_Severity'].replace('Slight','1',inplace = True)\n",
    "df_model['Accident_Severity'].replace('Serious or Fatal','2',inplace = True)\n",
    "df_model.head()"
   ]
  },
  {
   "cell_type": "code",
   "execution_count": 46,
   "metadata": {},
   "outputs": [
    {
     "data": {
      "text/plain": [
       "Accident_Severity                   int32\n",
       "Speed_limit                       float64\n",
       "Age_Band_of_Driver_0 - 5            uint8\n",
       "Age_Band_of_Driver_11 - 15          uint8\n",
       "Age_Band_of_Driver_16 - 20          uint8\n",
       "                                   ...   \n",
       "Urban_or_Rural_Area_Urban           uint8\n",
       "Weather_Conditions_Fine             uint8\n",
       "Weather_Conditions_Fog or mist      uint8\n",
       "Weather_Conditions_Rain             uint8\n",
       "Weather_Conditions_Snow             uint8\n",
       "Length: 61, dtype: object"
      ]
     },
     "execution_count": 46,
     "metadata": {},
     "output_type": "execute_result"
    }
   ],
   "source": [
    "df_model.astype({'Accident_Severity' : 'int32'}).dtypes"
   ]
  },
  {
   "cell_type": "code",
   "execution_count": 47,
   "metadata": {},
   "outputs": [],
   "source": [
    "# define features \n",
    "features = df_model.drop(['Accident_Severity'], axis=1)\n",
    "# define target\n",
    "target = df_model['Accident_Severity']\n",
    "\n",
    "from sklearn.model_selection import train_test_split\n",
    "# split data into train and test sets\n",
    "X_train, X_test, y_train, y_test = train_test_split(features, target, test_size=0.2)"
   ]
  },
  {
   "cell_type": "code",
   "execution_count": 48,
   "metadata": {
    "scrolled": true
   },
   "outputs": [
    {
     "data": {
      "text/plain": [
       "Index(['Speed_limit', 'Age_Band_of_Driver_0 - 5', 'Age_Band_of_Driver_11 - 15',\n",
       "       'Age_Band_of_Driver_16 - 20', 'Age_Band_of_Driver_21 - 25',\n",
       "       'Age_Band_of_Driver_26 - 35', 'Age_Band_of_Driver_36 - 45',\n",
       "       'Age_Band_of_Driver_46 - 55', 'Age_Band_of_Driver_56 - 65',\n",
       "       'Age_Band_of_Driver_6 - 10', 'Age_Band_of_Driver_66 - 75',\n",
       "       'Age_Band_of_Driver_Over 75', 'Sex_of_Driver_Female',\n",
       "       'Sex_of_Driver_Male', 'Day_of_Week_Friday', 'Day_of_Week_Monday',\n",
       "       'Day_of_Week_Saturday', 'Day_of_Week_Sunday', 'Day_of_Week_Thursday',\n",
       "       'Day_of_Week_Tuesday', 'Day_of_Week_Wednesday',\n",
       "       'Junction_Detail_Crossroads', 'Junction_Detail_Mini-roundabout',\n",
       "       'Junction_Detail_More than 4 arms (not roundabout)',\n",
       "       'Junction_Detail_Not at junction or within 20 metres',\n",
       "       'Junction_Detail_Other junction',\n",
       "       'Junction_Detail_Private drive or entrance',\n",
       "       'Junction_Detail_Roundabout', 'Junction_Detail_Slip road',\n",
       "       'Junction_Detail_T or staggered junction',\n",
       "       'Light_Conditions_Darkness - lighting unknown',\n",
       "       'Light_Conditions_Darkness - lights lit',\n",
       "       'Light_Conditions_Darkness - lights unlit',\n",
       "       'Light_Conditions_Darkness - no lighting', 'Light_Conditions_Daylight',\n",
       "       'Road_Surface_Conditions_Dry',\n",
       "       'Road_Surface_Conditions_Flood over 3cm. deep',\n",
       "       'Road_Surface_Conditions_Frost or ice', 'Road_Surface_Conditions_Snow',\n",
       "       'Road_Surface_Conditions_Wet or damp', 'Road_Type_Dual carriageway',\n",
       "       'Road_Type_One way street', 'Road_Type_Roundabout',\n",
       "       'Road_Type_Single carriageway', 'Road_Type_Slip road',\n",
       "       'Vehicle_Type_Agricultural vehicle', 'Vehicle_Type_Bus',\n",
       "       'Vehicle_Type_Car', 'Vehicle_Type_Goods Vehicle',\n",
       "       'Vehicle_Type_Motorcycle', 'Vehicle_Type_Other vehicle',\n",
       "       'Vehicle_Type_Pedal cycle', 'Vehicle_Type_Ridden horse',\n",
       "       'Vehicle_Type_Tram', 'Urban_or_Rural_Area_Rural',\n",
       "       'Urban_or_Rural_Area_Urban', 'Weather_Conditions_Fine',\n",
       "       'Weather_Conditions_Fog or mist', 'Weather_Conditions_Rain',\n",
       "       'Weather_Conditions_Snow'],\n",
       "      dtype='object')"
      ]
     },
     "execution_count": 48,
     "metadata": {},
     "output_type": "execute_result"
    }
   ],
   "source": [
    "X_train.columns"
   ]
  },
  {
   "cell_type": "markdown",
   "metadata": {},
   "source": [
    "## Modelling <a name= \"modelling\"> </a>"
   ]
  },
  {
   "cell_type": "markdown",
   "metadata": {},
   "source": [
    "### Random Forest Classifier"
   ]
  },
  {
   "cell_type": "code",
   "execution_count": 49,
   "metadata": {},
   "outputs": [
    {
     "data": {
      "text/plain": [
       "1    0.582515\n",
       "2    0.417485\n",
       "Name: Accident_Severity, dtype: float64"
      ]
     },
     "execution_count": 49,
     "metadata": {},
     "output_type": "execute_result"
    }
   ],
   "source": [
    "df_model['Accident_Severity'].value_counts(normalize=True)"
   ]
  },
  {
   "cell_type": "code",
   "execution_count": 50,
   "metadata": {},
   "outputs": [],
   "source": [
    "from sklearn.ensemble import RandomForestClassifier\n",
    "\n",
    "# import metrics\n",
    "from sklearn.metrics import classification_report, confusion_matrix\n",
    "\n",
    "# import evaluation tools\n",
    "from sklearn.model_selection import KFold, cross_val_score"
   ]
  },
  {
   "cell_type": "code",
   "execution_count": 51,
   "metadata": {},
   "outputs": [
    {
     "name": "stdout",
     "output_type": "stream",
     "text": [
      "[[0.65557055 0.34442945]\n",
      " [0.79139882 0.20860118]\n",
      " [0.50695763 0.49304237]\n",
      " ...\n",
      " [0.81603454 0.18396546]\n",
      " [0.47374101 0.52625899]\n",
      " [0.75764146 0.24235854]]\n",
      "Classification Report Random Forest - with Entropy and class_weight Parameter: \n",
      "               precision    recall  f1-score   support\n",
      "\n",
      "           1       0.64      0.77      0.70     74910\n",
      "           2       0.55      0.41      0.47     53384\n",
      "\n",
      "    accuracy                           0.62    128294\n",
      "   macro avg       0.60      0.59      0.58    128294\n",
      "weighted avg       0.61      0.62      0.60    128294\n",
      "\n"
     ]
    }
   ],
   "source": [
    "# instantiate RandomForestClassifier with entropy and class_weight\n",
    "forest_1 = RandomForestClassifier(n_estimators = 50,random_state=4, criterion='entropy', n_jobs=-1)# class_weight='balanced')\n",
    "\n",
    "# training\n",
    "forest_1.fit(X_train, y_train)\n",
    "\n",
    "# predict\n",
    "y_test_preds  = forest_1.predict(X_test)\n",
    "\n",
    "y_test_prob = forest_1.predict_proba(X_test)\n",
    "print(y_test_prob)\n",
    "# evaluate\n",
    "report = classification_report(y_test, y_test_preds)\n",
    "print('Classification Report Random Forest - with Entropy and class_weight Parameter: \\n', report)\n"
   ]
  },
  {
   "cell_type": "code",
   "execution_count": 52,
   "metadata": {},
   "outputs": [
    {
     "data": {
      "text/plain": [
       "1    89059\n",
       "2    39235\n",
       "Name: predicted Severity, dtype: int64"
      ]
     },
     "execution_count": 52,
     "metadata": {},
     "output_type": "execute_result"
    }
   ],
   "source": [
    "w = pd.DataFrame(data = y_test_preds, columns = ['predicted Severity'])\n",
    "w['predicted Severity'].value_counts()"
   ]
  },
  {
   "cell_type": "code",
   "execution_count": 53,
   "metadata": {},
   "outputs": [
    {
     "data": {
      "text/plain": [
       "array([0.58326948, 0.58419056, 0.58493715, 0.58231859, 0.58450269])"
      ]
     },
     "execution_count": 53,
     "metadata": {},
     "output_type": "execute_result"
    }
   ],
   "source": [
    "cross_val_score(forest_1, X_train, y_train, scoring='f1_macro', n_jobs=-1)"
   ]
  },
  {
   "cell_type": "code",
   "execution_count": 69,
   "metadata": {
    "scrolled": true
   },
   "outputs": [
    {
     "data": {
      "image/png": "[encoded data removed]",
      "text/plain": [
       "<Figure size 432x288 with 1 Axes>"
      ]
     },
     "metadata": {
      "needs_background": "light"
     },
     "output_type": "display_data"
    }
   ],
   "source": [
    "# create confusion matrix# create confusion matrix\n",
    "matrix = confusion_matrix(y_test, y_test_preds)\n",
    "\n",
    "# create dataframe\n",
    "class_names = df_model.Accident_Severity.values\n",
    "dataframe = pd.DataFrame(matrix, index=[ 'Slight', 'Serious of Fatal'], \n",
    "                         columns=['Slight', 'Serious or Fatal'])\n",
    "\n",
    "# create heatmap\n",
    "sns.heatmap(dataframe, annot=True, cbar=None, cmap='Blues',fmt = '.1f')\n",
    "plt.title('Confusion Matrix')\n",
    "plt.tight_layout(), plt.xlabel('True Values'), plt.ylabel('Predicted Values')\n",
    "plt.show()"
   ]
  },
  {
   "cell_type": "code",
   "execution_count": 55,
   "metadata": {},
   "outputs": [
    {
     "name": "stdout",
     "output_type": "stream",
     "text": [
      "[[57373 17537]\n",
      " [31686 21698]]\n"
     ]
    }
   ],
   "source": [
    "print(confusion_matrix(y_test, y_test_preds))"
   ]
  },
  {
   "cell_type": "code",
   "execution_count": 94,
   "metadata": {},
   "outputs": [
    {
     "data": {
      "text/plain": [
       "0.5382284513490188"
      ]
     },
     "execution_count": 94,
     "metadata": {},
     "output_type": "execute_result"
    }
   ],
   "source": [
    "jaccard_score(y_test, y_test_preds,pos_label = '1')"
   ]
  },
  {
   "cell_type": "markdown",
   "metadata": {},
   "source": [
    "## K Nearest Neighbour"
   ]
  },
  {
   "cell_type": "code",
   "execution_count": 98,
   "metadata": {},
   "outputs": [],
   "source": [
    "#KNN\n",
    "from sklearn import metrics\n",
    "from sklearn.neighbors import KNeighborsClassifier"
   ]
  },
  {
   "cell_type": "code",
   "execution_count": 99,
   "metadata": {},
   "outputs": [
    {
     "name": "stdout",
     "output_type": "stream",
     "text": [
      "0.5993031630473755\n"
     ]
    }
   ],
   "source": [
    "#Train Model and Predict  \n",
    "neigh = KNeighborsClassifier(n_neighbors = 4).fit(X_train,y_train)\n",
    "yhat1=neigh.predict(X_test)\n",
    "\n",
    "#mean_acc\n",
    "print(metrics.accuracy_score(y_test, yhat))"
   ]
  },
  {
   "cell_type": "code",
   "execution_count": 100,
   "metadata": {},
   "outputs": [
    {
     "data": {
      "text/plain": [
       "0.5426667615607708"
      ]
     },
     "execution_count": 100,
     "metadata": {},
     "output_type": "execute_result"
    }
   ],
   "source": [
    "jaccard_score(y_test, yhat1,pos_label = '1')"
   ]
  },
  {
   "cell_type": "code",
   "execution_count": 104,
   "metadata": {},
   "outputs": [
    {
     "data": {
      "image/png": "[encoded data removed]",
      "text/plain": [
       "<Figure size 432x288 with 1 Axes>"
      ]
     },
     "metadata": {
      "needs_background": "light"
     },
     "output_type": "display_data"
    }
   ],
   "source": [
    "# create confusion matrix# create confusion matrix\n",
    "matrix = confusion_matrix(y_test, yhat1)\n",
    "\n",
    "# create dataframe\n",
    "class_names = df_model.Accident_Severity.values\n",
    "dataframe = pd.DataFrame(matrix, index=[ 'Slight', 'Serious of Fatal'], \n",
    "                         columns=['Slight', 'Serious or Fatal'])\n",
    "\n",
    "# create heatmap\n",
    "sns.heatmap(dataframe, annot=True, cbar=None, cmap='Blues',fmt = '.1f')\n",
    "plt.title('Confusion Matrix')\n",
    "plt.tight_layout(), plt.xlabel('True Values'), plt.ylabel('Predicted Values')\n",
    "plt.show()"
   ]
  },
  {
   "cell_type": "code",
   "execution_count": 102,
   "metadata": {},
   "outputs": [
    {
     "name": "stdout",
     "output_type": "stream",
     "text": [
      "              precision    recall  f1-score   support\n",
      "\n",
      "           1       0.62      0.81      0.70     74910\n",
      "           2       0.53      0.30      0.38     53384\n",
      "\n",
      "    accuracy                           0.60    128294\n",
      "   macro avg       0.58      0.56      0.54    128294\n",
      "weighted avg       0.58      0.60      0.57    128294\n",
      "\n"
     ]
    }
   ],
   "source": [
    "print(classification_report(y_test, yhat1))"
   ]
  },
  {
   "cell_type": "markdown",
   "metadata": {},
   "source": [
    "## Logistic Regression "
   ]
  },
  {
   "cell_type": "code",
   "execution_count": 58,
   "metadata": {},
   "outputs": [
    {
     "data": {
      "text/plain": [
       "LogisticRegression(C=0.01, class_weight='balanced', solver='newton-cg')"
      ]
     },
     "execution_count": 58,
     "metadata": {},
     "output_type": "execute_result"
    }
   ],
   "source": [
    "#\n",
    "from sklearn.linear_model import LogisticRegression\n",
    "from sklearn.metrics import confusion_matrix\n",
    "LR = LogisticRegression(C=0.01, solver='newton-cg',class_weight = 'balanced').fit(X_train,y_train)\n",
    "LR"
   ]
  },
  {
   "cell_type": "code",
   "execution_count": 59,
   "metadata": {},
   "outputs": [
    {
     "data": {
      "text/plain": [
       "array(['1', '1', '2', '2', '2'], dtype=object)"
      ]
     },
     "execution_count": 59,
     "metadata": {},
     "output_type": "execute_result"
    }
   ],
   "source": [
    "yhat = LR.predict(X_test)\n",
    "yhat[0:5]"
   ]
  },
  {
   "cell_type": "code",
   "execution_count": 60,
   "metadata": {},
   "outputs": [
    {
     "data": {
      "text/plain": [
       "array([[0.72870914, 0.27129086],\n",
       "       [0.55939342, 0.44060658],\n",
       "       [0.33856397, 0.66143603],\n",
       "       ...,\n",
       "       [0.67598749, 0.32401251],\n",
       "       [0.4286987 , 0.5713013 ],\n",
       "       [0.39346924, 0.60653076]])"
      ]
     },
     "execution_count": 60,
     "metadata": {},
     "output_type": "execute_result"
    }
   ],
   "source": [
    "yhat_prob = LR.predict_proba(X_test)\n",
    "yhat_prob"
   ]
  },
  {
   "cell_type": "code",
   "execution_count": 80,
   "metadata": {},
   "outputs": [
    {
     "data": {
      "text/plain": [
       "0.49723136020923153"
      ]
     },
     "execution_count": 80,
     "metadata": {},
     "output_type": "execute_result"
    }
   ],
   "source": [
    "from sklearn.metrics import jaccard_score\n",
    "jaccard_score(y_test, yhat,pos_label = '1')"
   ]
  },
  {
   "cell_type": "code",
   "execution_count": 62,
   "metadata": {},
   "outputs": [
    {
     "name": "stdout",
     "output_type": "stream",
     "text": [
      "              precision    recall  f1-score   support\n",
      "\n",
      "           1       0.68      0.65      0.66     74910\n",
      "           2       0.54      0.57      0.55     53384\n",
      "\n",
      "    accuracy                           0.62    128294\n",
      "   macro avg       0.61      0.61      0.61    128294\n",
      "weighted avg       0.62      0.62      0.62    128294\n",
      "\n"
     ]
    }
   ],
   "source": [
    "print (classification_report(y_test, yhat))"
   ]
  },
  {
   "cell_type": "code",
   "execution_count": 103,
   "metadata": {},
   "outputs": [
    {
     "data": {
      "image/png": "[encoded data removed]",
      "text/plain": [
       "<Figure size 432x288 with 1 Axes>"
      ]
     },
     "metadata": {
      "needs_background": "light"
     },
     "output_type": "display_data"
    }
   ],
   "source": [
    "# create confusion matrix# create confusion matrix\n",
    "matrix = confusion_matrix(y_test, yhat)\n",
    "\n",
    "# create dataframe\n",
    "class_names = df_model.Accident_Severity.values\n",
    "dataframe = pd.DataFrame(matrix, index=[ 'Slight', 'Serious of Fatal'], \n",
    "                         columns=['Slight', 'Serious or Fatal'])\n",
    "\n",
    "# create heatmap\n",
    "sns.heatmap(dataframe, annot=True, cbar=None, cmap='Blues',fmt = '.1f')\n",
    "plt.title('Confusion Matrix')\n",
    "plt.tight_layout(), plt.xlabel('True Values'), plt.ylabel('Predicted Values')\n",
    "plt.show()"
   ]
  },
  {
   "cell_type": "code",
   "execution_count": 91,
   "metadata": {},
   "outputs": [
    {
     "data": {
      "text/plain": [
       "20.167425114083706"
      ]
     },
     "execution_count": 91,
     "metadata": {},
     "output_type": "execute_result"
    }
   ],
   "source": [
    "log_loss(y_test,yhat,normalize = True)"
   ]
  },
  {
   "cell_type": "markdown",
   "metadata": {},
   "source": [
    "### Decision Trees "
   ]
  },
  {
   "cell_type": "code",
   "execution_count": 63,
   "metadata": {},
   "outputs": [],
   "source": [
    "from sklearn.tree import DecisionTreeClassifier"
   ]
  },
  {
   "cell_type": "code",
   "execution_count": 64,
   "metadata": {},
   "outputs": [
    {
     "data": {
      "text/plain": [
       "DecisionTreeClassifier(class_weight='balanced', criterion='entropy',\n",
       "                       max_depth=7)"
      ]
     },
     "execution_count": 64,
     "metadata": {},
     "output_type": "execute_result"
    }
   ],
   "source": [
    "SeverTree = DecisionTreeClassifier(criterion=\"entropy\", max_depth = 7,class_weight = 'balanced')\n",
    "SeverTree"
   ]
  },
  {
   "cell_type": "code",
   "execution_count": 65,
   "metadata": {},
   "outputs": [
    {
     "data": {
      "text/plain": [
       "DecisionTreeClassifier(class_weight='balanced', criterion='entropy',\n",
       "                       max_depth=7)"
      ]
     },
     "execution_count": 65,
     "metadata": {},
     "output_type": "execute_result"
    }
   ],
   "source": [
    "SeverTree.fit(X_train,y_train)"
   ]
  },
  {
   "cell_type": "code",
   "execution_count": 66,
   "metadata": {},
   "outputs": [],
   "source": [
    "predTree = SeverTree.predict(X_test)"
   ]
  },
  {
   "cell_type": "code",
   "execution_count": 67,
   "metadata": {},
   "outputs": [
    {
     "name": "stdout",
     "output_type": "stream",
     "text": [
      "[[49427 25483]\n",
      " [23731 29653]]\n"
     ]
    }
   ],
   "source": [
    "print(confusion_matrix(y_test,predTree))"
   ]
  },
  {
   "cell_type": "code",
   "execution_count": 68,
   "metadata": {},
   "outputs": [
    {
     "name": "stdout",
     "output_type": "stream",
     "text": [
      "DecisionTrees's Accuracy:  0.6163967137979952\n"
     ]
    }
   ],
   "source": [
    "from sklearn import metrics\n",
    "print(\"DecisionTrees's Accuracy: \", metrics.accuracy_score(y_test, predTree))"
   ]
  },
  {
   "cell_type": "code",
   "execution_count": 105,
   "metadata": {},
   "outputs": [
    {
     "data": {
      "image/png": "[encoded data removed]",
      "text/plain": [
       "<Figure size 432x288 with 1 Axes>"
      ]
     },
     "metadata": {
      "needs_background": "light"
     },
     "output_type": "display_data"
    }
   ],
   "source": [
    "# create confusion matrix# create confusion matrix\n",
    "matrix = confusion_matrix(y_test, predTree)\n",
    "\n",
    "# create dataframe\n",
    "class_names = df_model.Accident_Severity.values\n",
    "dataframe = pd.DataFrame(matrix, index=[ 'Slight', 'Serious of Fatal'], \n",
    "                         columns=['Slight', 'Serious or Fatal'])\n",
    "\n",
    "# create heatmap\n",
    "sns.heatmap(dataframe, annot=True, cbar=None, cmap='Blues',fmt = '.1f')\n",
    "plt.title('Confusion Matrix')\n",
    "plt.tight_layout(), plt.xlabel('True Values'), plt.ylabel('Predicted Values')\n",
    "plt.show()"
   ]
  },
  {
   "cell_type": "code",
   "execution_count": 97,
   "metadata": {
    "scrolled": false
   },
   "outputs": [
    {
     "name": "stdout",
     "output_type": "stream",
     "text": [
      "              precision    recall  f1-score   support\n",
      "\n",
      "           1       0.68      0.66      0.67     74910\n",
      "           2       0.54      0.56      0.55     53384\n",
      "\n",
      "    accuracy                           0.62    128294\n",
      "   macro avg       0.61      0.61      0.61    128294\n",
      "weighted avg       0.62      0.62      0.62    128294\n",
      "\n"
     ]
    }
   ],
   "source": [
    "print(classification_report(y_test,predTree))\n"
   ]
  },
  {
   "cell_type": "code",
   "execution_count": 93,
   "metadata": {},
   "outputs": [
    {
     "data": {
      "text/plain": [
       "0.5010796727527094"
      ]
     },
     "execution_count": 93,
     "metadata": {},
     "output_type": "execute_result"
    }
   ],
   "source": [
    "jaccard_score(y_test, predTree,pos_label = '1')"
   ]
  },
  {
   "cell_type": "markdown",
   "metadata": {},
   "source": [
    "##  Results & Discussion <a name = \"results\"></a>"
   ]
  },
  {
   "cell_type": "markdown",
   "metadata": {},
   "source": [
    "| Model | Precision | Accuracy | F1-Score | Jaccard Score |\n",
    "| ----------- | ----------- |----------- |----------- |----------- |\n",
    "| Random Forest | 0.61 | 0.62 | 0.60 | 0.53 |\n",
    "| KNN | 0.58 | 0.60 | 0.57 | 0.54 | \n",
    "| Logistic Regression  | 0.62 | 0.62 | 0.62 | 0.49 |\n",
    "|Decision Trees  | 0.62 | 0.62 | 0.62 | 0.50 | "
   ]
  },
  {
   "cell_type": "markdown",
   "metadata": {},
   "source": [
    "\n",
    "\n",
    "</p> We have succesfully built multiple models that predicts Accident Severity and its' probability with chosen set of features.\n",
    "All the different models used have yielded similar result across the board with neglible differences.The models built have an accuracy of 62% and is a reflection of the general accuracy, given that the dataset used in question is for the Entire United Kingdom through years 2004-2017. </p>\n",
    "\n",
    "This notebook can be considered a preliminary/opening incursion into predicting accident severity.The model reflects data collected at a macro level and is therfore harder to include highly contextual data into the model.Ideally, to improve the model's performance, we should narrow our field of study to a smaller region in the UK, a city preferrably and work on predicting accident severity for that smaller region.This will help contextualize the data more than we are currently able to do so.Another thing that could be added into the model is location data for the accidents.\n",
    "\n",
    "Using the model with location specific data and trends from Google Maps/Waze will help in improving model performance and also personalizing the predictions. It could also suggest alternate routes avoiding accident prone areas or alternate forms of transport. With the additional data and context that these applications could provide, it would also be possible to identify accident hotspots particular to a specific weather/light condition. For example, a particular road sees increased number of accidents when it is raining. The transport and road safety organization could then look at the data and suggest measures to reduce the risk of accidents, like imposing a lower speed limit when it is raining. These suggested applications for the model are obviously much more difficult to execute and realize, but if done, could work to reduce accidents and increase safety on dangerous roads.</p>\n",
    "\n",
    "\n",
    "\n"
   ]
  },
  {
   "cell_type": "code",
   "execution_count": null,
   "metadata": {},
   "outputs": [],
   "source": []
  },
  {
   "cell_type": "code",
   "execution_count": null,
   "metadata": {},
   "outputs": [],
   "source": []
  }
 ],
 "metadata": {
  "kernelspec": {
   "display_name": "Python 3",
   "language": "python",
   "name": "python3"
  },
  "language_info": {
   "codemirror_mode": {
    "name": "ipython",
    "version": 3
   },
   "file_extension": ".py",
   "mimetype": "text/x-python",
   "name": "python",
   "nbconvert_exporter": "python",
   "pygments_lexer": "ipython3",
   "version": "3.8.3"
  }
 },
 "nbformat": 4,
 "nbformat_minor": 4
}
