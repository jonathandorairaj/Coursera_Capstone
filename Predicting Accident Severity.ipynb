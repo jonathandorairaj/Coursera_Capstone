{
 "cells": [
  {
   "cell_type": "markdown",
   "metadata": {},
   "source": [
    "# Capstone Project - Predicting Severity of an Accident\n",
    "\n",
    "### Applied Data Science Capstone by IBM/Coursera"
   ]
  },
  {
   "cell_type": "markdown",
   "metadata": {},
   "source": [
    "## Table of contents\n",
    "* [Introduction: Business Problem](#introduction)\n",
    "* [Data](#data)\n",
    "* [Methodology](#methodology)\n",
    "* [Analysis](#analysis)\n",
    "* [Results and Discussion](#results)\n",
    "* [Conclusion](#conclusion)"
   ]
  },
  {
   "cell_type": "markdown",
   "metadata": {},
   "source": [
    "## Introduction: Business Problem <a name=\"introduction\"></a>"
   ]
  },
  {
   "cell_type": "markdown",
   "metadata": {},
   "source": [
    "In this notebook, we will try to predict the severity of an accident using fairly easily acquirable information like\n",
    "Road, Weather and Light Conditions to name a few. \n",
    "\n",
    "</p>Around the world, early warning systems are in place that work to predict and notify the population of an impending disaster, ahead of time. The problem defined here is to apply the same concept to predicting the probability of an Accident and it’s severity. The aim is to predict an accident using weather and local conditions, in addition to some personal/specific features.\n",
    "\n",
    "This model is targeted towards Road and Safety Authorities as well the common user.The envisioned application is for the common user to receive prior warning about which roads to avoid or whether particular roads on the calculated route have a higher chance of accidents and warrants further attention and precautions.</p>"
   ]
  },
  {
   "cell_type": "markdown",
   "metadata": {},
   "source": [
    "## Data <a name = \"data\"> </a>"
   ]
  },
  {
   "cell_type": "markdown",
   "metadata": {},
   "source": [
    "</p>There are numerous datasets available on Accident Data,collected and hosted on government  websites. The particular dataset used for this model is UK Road Safety : Traffic Accidents and Vehicles sourced from Kaggle.\n",
    "\n",
    "The dataset comprises of two files :\n",
    "    1. AccidentInformation.csv: every line in the file represents a unique traffic accident (identified by the Accident_Index column), featuring various properties related to the accident as columns. Date range: 2005-2017\n",
    "    2. Vehicle_Information.csv: every line in the file represents the involvement of a unique vehicle in a unique traffic     accident, featuring various vehicle and passenger properties as columns. Date range: 2004-2016\n",
    "The two above-mentioned datasets can be linked through the unique traffic accident identifier (Accident_Index column).</p>"
   ]
  },
  {
   "cell_type": "markdown",
   "metadata": {},
   "source": [
    "</p>I have selected attributes that describe the conditions prevalent during the occurrence of the accident, namely, Weather, Light, local environment attributes in addition to personal data like Vehicular and Driver data fields. \n",
    "With an iterative process of Visualization and modelling, the following features were finally chosen:\n",
    "\n",
    "\n",
    "    1. Light Conditions\n",
    "    2. Road Surface Conditions\n",
    "    3. Weather Conditions\n",
    "    4. Road Type\n",
    "    5. Sex of Driver\n",
    "    6. Day of the Week \n",
    "    7. Speed Limit\n",
    "    8. Driver Age Band\n",
    "    9. Urban or Rural Area \n",
    "    10. Junction Detail\n",
    "    11. Vehicle Type\n",
    "</p>"
   ]
  },
  {
   "cell_type": "code",
   "execution_count": 5,
   "metadata": {},
   "outputs": [],
   "source": [
    "import pandas as pd\n",
    "import numpy as np\n",
    "import matplotlib.pyplot as plt \n",
    "import seaborn as sns\n",
    "%matplotlib inline"
   ]
  },
  {
   "cell_type": "code",
   "execution_count": 6,
   "metadata": {},
   "outputs": [
    {
     "name": "stderr",
     "output_type": "stream",
     "text": [
      "C:\\ProgramData\\Anaconda3\\lib\\site-packages\\IPython\\core\\interactiveshell.py:3071: DtypeWarning: Columns (0) have mixed types.Specify dtype option on import or set low_memory=False.\n",
      "  has_raised = await self.run_ast_nodes(code_ast.body, cell_name,\n"
     ]
    },
    {
     "name": "stdout",
     "output_type": "stream",
     "text": [
      "(2047256, 34)\n",
      "(2177205, 24)\n"
     ]
    },
    {
     "data": {
      "text/plain": [
       "(2058408, 57)"
      ]
     },
     "execution_count": 6,
     "metadata": {},
     "output_type": "execute_result"
    }
   ],
   "source": [
    "#read Accident information into DataFrame\n",
    "df_Acc = pd.read_csv(\"Accident_Information.csv\")\n",
    "df_Acc.head()\n",
    "\n",
    "#read Vehicle Information into DataFrame\n",
    "df_Veh = pd.read_csv(\"Vehicle_Information.csv\",engine = 'python')\n",
    "df_Veh.head()\n",
    "\n",
    "print(df_Acc.shape)\n",
    "print(df_Veh.shape)\n",
    "\n",
    "#merging the two datasets inner join\n",
    "df = pd.merge(df_Acc,df_Veh, how = 'inner', on = 'Accident_Index')\n",
    "df.shape"
   ]
  },
  {
   "cell_type": "code",
   "execution_count": 7,
   "metadata": {},
   "outputs": [
    {
     "data": {
      "text/plain": [
       "Accident_Index                                  object\n",
       "1st_Road_Class                                  object\n",
       "1st_Road_Number                                float64\n",
       "2nd_Road_Class                                  object\n",
       "2nd_Road_Number                                float64\n",
       "Accident_Severity                               object\n",
       "Carriageway_Hazards                             object\n",
       "Date                                            object\n",
       "Day_of_Week                                     object\n",
       "Did_Police_Officer_Attend_Scene_of_Accident    float64\n",
       "Junction_Control                                object\n",
       "Junction_Detail                                 object\n",
       "Latitude                                       float64\n",
       "Light_Conditions                                object\n",
       "Local_Authority_(District)                      object\n",
       "Local_Authority_(Highway)                       object\n",
       "Location_Easting_OSGR                          float64\n",
       "Location_Northing_OSGR                         float64\n",
       "Longitude                                      float64\n",
       "LSOA_of_Accident_Location                       object\n",
       "Number_of_Casualties                             int64\n",
       "Number_of_Vehicles                               int64\n",
       "Pedestrian_Crossing-Human_Control              float64\n",
       "Pedestrian_Crossing-Physical_Facilities        float64\n",
       "Police_Force                                    object\n",
       "Road_Surface_Conditions                         object\n",
       "Road_Type                                       object\n",
       "Special_Conditions_at_Site                      object\n",
       "Speed_limit                                    float64\n",
       "Time                                            object\n",
       "Urban_or_Rural_Area                             object\n",
       "Weather_Conditions                              object\n",
       "Year_x                                           int64\n",
       "InScotland                                      object\n",
       "Age_Band_of_Driver                              object\n",
       "Age_of_Vehicle                                 float64\n",
       "Driver_Home_Area_Type                           object\n",
       "Driver_IMD_Decile                              float64\n",
       "Engine_Capacity_.CC.                           float64\n",
       "Hit_Object_in_Carriageway                       object\n",
       "Hit_Object_off_Carriageway                      object\n",
       "Journey_Purpose_of_Driver                       object\n",
       "Junction_Location                               object\n",
       "make                                            object\n",
       "model                                           object\n",
       "Propulsion_Code                                 object\n",
       "Sex_of_Driver                                   object\n",
       "Skidding_and_Overturning                        object\n",
       "Towing_and_Articulation                         object\n",
       "Vehicle_Leaving_Carriageway                     object\n",
       "Vehicle_Location.Restricted_Lane               float64\n",
       "Vehicle_Manoeuvre                               object\n",
       "Vehicle_Reference                                int64\n",
       "Vehicle_Type                                    object\n",
       "Was_Vehicle_Left_Hand_Drive                     object\n",
       "X1st_Point_of_Impact                            object\n",
       "Year_y                                           int64\n",
       "dtype: object"
      ]
     },
     "execution_count": 7,
     "metadata": {},
     "output_type": "execute_result"
    }
   ],
   "source": [
    "df.dtypes"
   ]
  },
  {
   "cell_type": "code",
   "execution_count": null,
   "metadata": {},
   "outputs": [],
   "source": []
  }
 ],
 "metadata": {
  "kernelspec": {
   "display_name": "Python 3",
   "language": "python",
   "name": "python3"
  },
  "language_info": {
   "codemirror_mode": {
    "name": "ipython",
    "version": 3
   },
   "file_extension": ".py",
   "mimetype": "text/x-python",
   "name": "python",
   "nbconvert_exporter": "python",
   "pygments_lexer": "ipython3",
   "version": "3.8.3"
  }
 },
 "nbformat": 4,
 "nbformat_minor": 4
}
